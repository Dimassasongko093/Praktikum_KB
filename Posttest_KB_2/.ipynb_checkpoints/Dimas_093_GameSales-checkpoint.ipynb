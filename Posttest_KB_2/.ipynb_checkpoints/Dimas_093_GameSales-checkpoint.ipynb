{
 "cells": [
  {
   "cell_type": "markdown",
   "id": "1f3fefe1",
   "metadata": {},
   "source": [
    "## Import Pandas \n",
    "Import pandas sebagai pd\n",
    "dan df membaca dataset"
   ]
  },
  {
   "cell_type": "code",
   "execution_count": 3,
   "id": "c4b1e10e",
   "metadata": {},
   "outputs": [],
   "source": [
    "import pandas as pd"
   ]
  },
  {
   "cell_type": "code",
   "execution_count": 4,
   "id": "4978117b",
   "metadata": {},
   "outputs": [],
   "source": [
    "df = pd.read_csv(\"card_data.csv\")"
   ]
  },
  {
   "cell_type": "markdown",
   "id": "f62ee587",
   "metadata": {},
   "source": [
    "## Membaca Dataset"
   ]
  },
  {
   "cell_type": "code",
   "execution_count": 5,
   "id": "fece2e4e",
   "metadata": {},
   "outputs": [
    {
     "data": {
      "text/html": [
       "<div>\n",
       "<style scoped>\n",
       "    .dataframe tbody tr th:only-of-type {\n",
       "        vertical-align: middle;\n",
       "    }\n",
       "\n",
       "    .dataframe tbody tr th {\n",
       "        vertical-align: top;\n",
       "    }\n",
       "\n",
       "    .dataframe thead th {\n",
       "        text-align: right;\n",
       "    }\n",
       "</style>\n",
       "<table border=\"1\" class=\"dataframe\">\n",
       "  <thead>\n",
       "    <tr style=\"text-align: right;\">\n",
       "      <th></th>\n",
       "      <th>Name</th>\n",
       "      <th>Type</th>\n",
       "      <th>Level</th>\n",
       "      <th>Race</th>\n",
       "      <th>Attribute</th>\n",
       "      <th>ATK</th>\n",
       "      <th>DEF</th>\n",
       "    </tr>\n",
       "  </thead>\n",
       "  <tbody>\n",
       "    <tr>\n",
       "      <th>0</th>\n",
       "      <td>Limit Reverse</td>\n",
       "      <td>Trap Card</td>\n",
       "      <td>NaN</td>\n",
       "      <td>Continuous</td>\n",
       "      <td>NaN</td>\n",
       "      <td>NaN</td>\n",
       "      <td>NaN</td>\n",
       "    </tr>\n",
       "    <tr>\n",
       "      <th>1</th>\n",
       "      <td>The 13th Grave</td>\n",
       "      <td>Normal Monster</td>\n",
       "      <td>3.0</td>\n",
       "      <td>Zombie</td>\n",
       "      <td>DARK</td>\n",
       "      <td>1200.0</td>\n",
       "      <td>900.0</td>\n",
       "    </tr>\n",
       "    <tr>\n",
       "      <th>2</th>\n",
       "      <td>Gem-Enhancement</td>\n",
       "      <td>Trap Card</td>\n",
       "      <td>NaN</td>\n",
       "      <td>Normal</td>\n",
       "      <td>NaN</td>\n",
       "      <td>NaN</td>\n",
       "      <td>NaN</td>\n",
       "    </tr>\n",
       "    <tr>\n",
       "      <th>3</th>\n",
       "      <td>Magician's Circle</td>\n",
       "      <td>Trap Card</td>\n",
       "      <td>NaN</td>\n",
       "      <td>Normal</td>\n",
       "      <td>NaN</td>\n",
       "      <td>NaN</td>\n",
       "      <td>NaN</td>\n",
       "    </tr>\n",
       "    <tr>\n",
       "      <th>4</th>\n",
       "      <td>Castle of Dark Illusions</td>\n",
       "      <td>Flip Effect Monster</td>\n",
       "      <td>4.0</td>\n",
       "      <td>Fiend</td>\n",
       "      <td>DARK</td>\n",
       "      <td>920.0</td>\n",
       "      <td>1930.0</td>\n",
       "    </tr>\n",
       "    <tr>\n",
       "      <th>...</th>\n",
       "      <td>...</td>\n",
       "      <td>...</td>\n",
       "      <td>...</td>\n",
       "      <td>...</td>\n",
       "      <td>...</td>\n",
       "      <td>...</td>\n",
       "      <td>...</td>\n",
       "    </tr>\n",
       "    <tr>\n",
       "      <th>6529</th>\n",
       "      <td>Wattcancel</td>\n",
       "      <td>Trap Card</td>\n",
       "      <td>NaN</td>\n",
       "      <td>Counter</td>\n",
       "      <td>NaN</td>\n",
       "      <td>NaN</td>\n",
       "      <td>NaN</td>\n",
       "    </tr>\n",
       "    <tr>\n",
       "      <th>6530</th>\n",
       "      <td>Paleozoic Anomalocaris</td>\n",
       "      <td>XYZ Monster</td>\n",
       "      <td>2.0</td>\n",
       "      <td>Aqua</td>\n",
       "      <td>WATER</td>\n",
       "      <td>2400.0</td>\n",
       "      <td>0.0</td>\n",
       "    </tr>\n",
       "    <tr>\n",
       "      <th>6531</th>\n",
       "      <td>Dark Magician</td>\n",
       "      <td>Normal Monster</td>\n",
       "      <td>7.0</td>\n",
       "      <td>Spellcaster</td>\n",
       "      <td>DARK</td>\n",
       "      <td>2500.0</td>\n",
       "      <td>2100.0</td>\n",
       "    </tr>\n",
       "    <tr>\n",
       "      <th>6532</th>\n",
       "      <td>Odd-Eyes Pendulum Dragon</td>\n",
       "      <td>Pendulum Effect Monster</td>\n",
       "      <td>7.0</td>\n",
       "      <td>Dragon</td>\n",
       "      <td>DARK</td>\n",
       "      <td>2500.0</td>\n",
       "      <td>2000.0</td>\n",
       "    </tr>\n",
       "    <tr>\n",
       "      <th>6533</th>\n",
       "      <td>Stardust Dragon</td>\n",
       "      <td>Synchro Monster</td>\n",
       "      <td>8.0</td>\n",
       "      <td>Dragon</td>\n",
       "      <td>WIND</td>\n",
       "      <td>2500.0</td>\n",
       "      <td>2000.0</td>\n",
       "    </tr>\n",
       "  </tbody>\n",
       "</table>\n",
       "<p>6534 rows × 7 columns</p>\n",
       "</div>"
      ],
      "text/plain": [
       "                          Name                     Type  Level         Race  \\\n",
       "0                Limit Reverse                Trap Card    NaN   Continuous   \n",
       "1               The 13th Grave           Normal Monster    3.0       Zombie   \n",
       "2              Gem-Enhancement                Trap Card    NaN       Normal   \n",
       "3            Magician's Circle                Trap Card    NaN       Normal   \n",
       "4     Castle of Dark Illusions      Flip Effect Monster    4.0        Fiend   \n",
       "...                        ...                      ...    ...          ...   \n",
       "6529                Wattcancel                Trap Card    NaN      Counter   \n",
       "6530    Paleozoic Anomalocaris              XYZ Monster    2.0         Aqua   \n",
       "6531             Dark Magician           Normal Monster    7.0  Spellcaster   \n",
       "6532  Odd-Eyes Pendulum Dragon  Pendulum Effect Monster    7.0       Dragon   \n",
       "6533           Stardust Dragon          Synchro Monster    8.0       Dragon   \n",
       "\n",
       "     Attribute     ATK     DEF  \n",
       "0          NaN     NaN     NaN  \n",
       "1         DARK  1200.0   900.0  \n",
       "2          NaN     NaN     NaN  \n",
       "3          NaN     NaN     NaN  \n",
       "4         DARK   920.0  1930.0  \n",
       "...        ...     ...     ...  \n",
       "6529       NaN     NaN     NaN  \n",
       "6530     WATER  2400.0     0.0  \n",
       "6531      DARK  2500.0  2100.0  \n",
       "6532      DARK  2500.0  2000.0  \n",
       "6533      WIND  2500.0  2000.0  \n",
       "\n",
       "[6534 rows x 7 columns]"
      ]
     },
     "execution_count": 5,
     "metadata": {},
     "output_type": "execute_result"
    }
   ],
   "source": [
    "df"
   ]
  },
  {
   "cell_type": "code",
   "execution_count": 6,
   "id": "e9f6d2c8",
   "metadata": {},
   "outputs": [
    {
     "data": {
      "text/plain": [
       "total record                                                            6534\n",
       "Nama Attribute yang ada    Index(['Name', 'Type', 'Level', 'Race', 'Attri...\n",
       "Jumlah Objek                                                               4\n",
       "Jumlah Angka                                                               3\n",
       "Jumlah NULL                                                                4\n",
       "dtype: object"
      ]
     },
     "execution_count": 6,
     "metadata": {},
     "output_type": "execute_result"
    }
   ],
   "source": [
    "totalRecord = len(df)\n",
    "namaAttribute = df.columns\n",
    "jumlahObjek = len(df.select_dtypes(include=['object']).columns)\n",
    "jumlahAngka = len(df.select_dtypes(include=['int64', 'float64']).columns)\n",
    "jumlahNULL = len(df.columns[df.isna().sum() > 0])\n",
    "\n",
    "dictionary_no1 = {\n",
    "    \"total record\": totalRecord,\n",
    "    \"Nama Attribute yang ada\": namaAttribute,\n",
    "    \"Jumlah Objek\": jumlahObjek,\n",
    "    \"Jumlah Angka\": jumlahAngka,\n",
    "    \"Jumlah NULL\": jumlahNULL,\n",
    "}\n",
    "\n",
    "pd.Series(dictionary_no1)"
   ]
  },
  {
   "cell_type": "markdown",
   "id": "71988264",
   "metadata": {},
   "source": [
    "Tampilkan rata-rata, standar deviasi, nilai minimum, nilai maksimum, Q1, Q2, dan Q3 dari attribute bertipe angka."
   ]
  },
  {
   "cell_type": "code",
   "execution_count": 7,
   "id": "e671b8f9",
   "metadata": {},
   "outputs": [
    {
     "data": {
      "text/html": [
       "<div>\n",
       "<style scoped>\n",
       "    .dataframe tbody tr th:only-of-type {\n",
       "        vertical-align: middle;\n",
       "    }\n",
       "\n",
       "    .dataframe tbody tr th {\n",
       "        vertical-align: top;\n",
       "    }\n",
       "\n",
       "    .dataframe thead th {\n",
       "        text-align: right;\n",
       "    }\n",
       "</style>\n",
       "<table border=\"1\" class=\"dataframe\">\n",
       "  <thead>\n",
       "    <tr style=\"text-align: right;\">\n",
       "      <th></th>\n",
       "      <th>Level</th>\n",
       "      <th>ATK</th>\n",
       "      <th>DEF</th>\n",
       "    </tr>\n",
       "  </thead>\n",
       "  <tbody>\n",
       "    <tr>\n",
       "      <th>Level</th>\n",
       "      <td>1.000000</td>\n",
       "      <td>0.725354</td>\n",
       "      <td>0.592225</td>\n",
       "    </tr>\n",
       "    <tr>\n",
       "      <th>ATK</th>\n",
       "      <td>0.725354</td>\n",
       "      <td>1.000000</td>\n",
       "      <td>0.508246</td>\n",
       "    </tr>\n",
       "    <tr>\n",
       "      <th>DEF</th>\n",
       "      <td>0.592225</td>\n",
       "      <td>0.508246</td>\n",
       "      <td>1.000000</td>\n",
       "    </tr>\n",
       "  </tbody>\n",
       "</table>\n",
       "</div>"
      ],
      "text/plain": [
       "          Level       ATK       DEF\n",
       "Level  1.000000  0.725354  0.592225\n",
       "ATK    0.725354  1.000000  0.508246\n",
       "DEF    0.592225  0.508246  1.000000"
      ]
     },
     "execution_count": 7,
     "metadata": {},
     "output_type": "execute_result"
    }
   ],
   "source": [
    "df.select_dtypes(include=['int64', 'float64']).mean()"
   ]
  },
  {
   "cell_type": "markdown",
   "id": "7dc2b036",
   "metadata": {},
   "source": []
  },
  {
   "cell_type": "code",
   "execution_count": 8,
   "id": "46940e03",
   "metadata": {},
   "outputs": [
    {
     "data": {
      "text/plain": [
       "Level    1.0\n",
       "ATK      0.0\n",
       "DEF      0.0\n",
       "dtype: float64"
      ]
     },
     "execution_count": 8,
     "metadata": {},
     "output_type": "execute_result"
    }
   ],
   "source": [
    "df.select_dtypes(include=['int64', 'float64']).std()"
   ]
  },
  {
   "cell_type": "code",
   "execution_count": 9,
   "id": "5133d1a8",
   "metadata": {},
   "outputs": [
    {
     "data": {
      "text/plain": [
       "Level    1.0\n",
       "ATK      0.0\n",
       "DEF      0.0\n",
       "dtype: float64"
      ]
     },
     "execution_count": 9,
     "metadata": {},
     "output_type": "execute_result"
    }
   ],
   "source": [
    "df.select_dtypes(include=['int64', 'float64']).min()"
   ]
  },
  {
   "cell_type": "code",
   "execution_count": 10,
   "id": "16e127e6",
   "metadata": {},
   "outputs": [
    {
     "data": {
      "text/plain": [
       "Level      12.0\n",
       "ATK      5000.0\n",
       "DEF      5000.0\n",
       "dtype: float64"
      ]
     },
     "execution_count": 10,
     "metadata": {},
     "output_type": "execute_result"
    }
   ],
   "source": [
    "df.select_dtypes(include=['int64', 'float64']).max()"
   ]
  },
  {
   "cell_type": "markdown",
   "id": "2489b8be",
   "metadata": {},
   "source": [
    "Tampilkan nilai korelasi attribute bertipe angka."
   ]
  },
  {
   "cell_type": "code",
   "execution_count": 11,
   "id": "44edb6ca",
   "metadata": {},
   "outputs": [
    {
     "data": {
      "text/html": [
       "<div>\n",
       "<style scoped>\n",
       "    .dataframe tbody tr th:only-of-type {\n",
       "        vertical-align: middle;\n",
       "    }\n",
       "\n",
       "    .dataframe tbody tr th {\n",
       "        vertical-align: top;\n",
       "    }\n",
       "\n",
       "    .dataframe thead th {\n",
       "        text-align: right;\n",
       "    }\n",
       "</style>\n",
       "<table border=\"1\" class=\"dataframe\">\n",
       "  <thead>\n",
       "    <tr style=\"text-align: right;\">\n",
       "      <th></th>\n",
       "      <th>Level</th>\n",
       "      <th>ATK</th>\n",
       "      <th>DEF</th>\n",
       "    </tr>\n",
       "  </thead>\n",
       "  <tbody>\n",
       "    <tr>\n",
       "      <th>Level</th>\n",
       "      <td>1.000000</td>\n",
       "      <td>0.725354</td>\n",
       "      <td>0.592225</td>\n",
       "    </tr>\n",
       "    <tr>\n",
       "      <th>ATK</th>\n",
       "      <td>0.725354</td>\n",
       "      <td>1.000000</td>\n",
       "      <td>0.508246</td>\n",
       "    </tr>\n",
       "    <tr>\n",
       "      <th>DEF</th>\n",
       "      <td>0.592225</td>\n",
       "      <td>0.508246</td>\n",
       "      <td>1.000000</td>\n",
       "    </tr>\n",
       "  </tbody>\n",
       "</table>\n",
       "</div>"
      ],
      "text/plain": [
       "          Level       ATK       DEF\n",
       "Level  1.000000  0.725354  0.592225\n",
       "ATK    0.725354  1.000000  0.508246\n",
       "DEF    0.592225  0.508246  1.000000"
      ]
     },
     "execution_count": 11,
     "metadata": {},
     "output_type": "execute_result"
    }
   ],
   "source": [
    "df.select_dtypes(include=['int64', 'float64']).corr()"
   ]
  },
  {
   "cell_type": "markdown",
   "id": "39ccac3f",
   "metadata": {},
   "source": [
    "Rubah nilai salah satu attribute bertipe angka menjadi desimal 3 angka dibelakang koma jika tidak ada, lakukan sebaliknya (dari desimal menjadi bilangan bulat)."
   ]
  },
  {
   "cell_type": "code",
   "execution_count": null,
   "id": "e2b9a8b4",
   "metadata": {},
   "outputs": [],
   "source": []
  },
  {
   "cell_type": "markdown",
   "id": "d49302f5",
   "metadata": {},
   "source": [
    "Tampilkan 10 record pertama dari attribute bertipe angka."
   ]
  },
  {
   "cell_type": "code",
   "execution_count": 12,
   "id": "7d51b220",
   "metadata": {},
   "outputs": [
    {
     "data": {
      "text/html": [
       "<div>\n",
       "<style scoped>\n",
       "    .dataframe tbody tr th:only-of-type {\n",
       "        vertical-align: middle;\n",
       "    }\n",
       "\n",
       "    .dataframe tbody tr th {\n",
       "        vertical-align: top;\n",
       "    }\n",
       "\n",
       "    .dataframe thead th {\n",
       "        text-align: right;\n",
       "    }\n",
       "</style>\n",
       "<table border=\"1\" class=\"dataframe\">\n",
       "  <thead>\n",
       "    <tr style=\"text-align: right;\">\n",
       "      <th></th>\n",
       "      <th>Level</th>\n",
       "      <th>ATK</th>\n",
       "      <th>DEF</th>\n",
       "    </tr>\n",
       "  </thead>\n",
       "  <tbody>\n",
       "    <tr>\n",
       "      <th>0</th>\n",
       "      <td>NaN</td>\n",
       "      <td>NaN</td>\n",
       "      <td>NaN</td>\n",
       "    </tr>\n",
       "    <tr>\n",
       "      <th>1</th>\n",
       "      <td>3.0</td>\n",
       "      <td>1200.0</td>\n",
       "      <td>900.0</td>\n",
       "    </tr>\n",
       "    <tr>\n",
       "      <th>2</th>\n",
       "      <td>NaN</td>\n",
       "      <td>NaN</td>\n",
       "      <td>NaN</td>\n",
       "    </tr>\n",
       "    <tr>\n",
       "      <th>3</th>\n",
       "      <td>NaN</td>\n",
       "      <td>NaN</td>\n",
       "      <td>NaN</td>\n",
       "    </tr>\n",
       "    <tr>\n",
       "      <th>4</th>\n",
       "      <td>4.0</td>\n",
       "      <td>920.0</td>\n",
       "      <td>1930.0</td>\n",
       "    </tr>\n",
       "    <tr>\n",
       "      <th>5</th>\n",
       "      <td>NaN</td>\n",
       "      <td>NaN</td>\n",
       "      <td>NaN</td>\n",
       "    </tr>\n",
       "    <tr>\n",
       "      <th>6</th>\n",
       "      <td>8.0</td>\n",
       "      <td>3000.0</td>\n",
       "      <td>2500.0</td>\n",
       "    </tr>\n",
       "    <tr>\n",
       "      <th>7</th>\n",
       "      <td>NaN</td>\n",
       "      <td>NaN</td>\n",
       "      <td>NaN</td>\n",
       "    </tr>\n",
       "    <tr>\n",
       "      <th>8</th>\n",
       "      <td>3.0</td>\n",
       "      <td>1400.0</td>\n",
       "      <td>300.0</td>\n",
       "    </tr>\n",
       "    <tr>\n",
       "      <th>9</th>\n",
       "      <td>6.0</td>\n",
       "      <td>2100.0</td>\n",
       "      <td>200.0</td>\n",
       "    </tr>\n",
       "  </tbody>\n",
       "</table>\n",
       "</div>"
      ],
      "text/plain": [
       "   Level     ATK     DEF\n",
       "0    NaN     NaN     NaN\n",
       "1    3.0  1200.0   900.0\n",
       "2    NaN     NaN     NaN\n",
       "3    NaN     NaN     NaN\n",
       "4    4.0   920.0  1930.0\n",
       "5    NaN     NaN     NaN\n",
       "6    8.0  3000.0  2500.0\n",
       "7    NaN     NaN     NaN\n",
       "8    3.0  1400.0   300.0\n",
       "9    6.0  2100.0   200.0"
      ]
     },
     "execution_count": 12,
     "metadata": {},
     "output_type": "execute_result"
    }
   ],
   "source": [
    "df.select_dtypes(include=['int64', 'float64']).head(10)"
   ]
  },
  {
   "cell_type": "markdown",
   "id": "183b4deb",
   "metadata": {},
   "source": [
    "Simpan dataset dengan attribute bertipe angka ke dalam file CSV."
   ]
  },
  {
   "cell_type": "code",
   "execution_count": 14,
   "id": "230b7f1c",
   "metadata": {},
   "outputs": [],
   "source": [
    "df.select_dtypes(include=['int64', 'float64']).to_csv(\"Atribut_Bertipe_Angka.csv\", index=False)"
   ]
  },
  {
   "cell_type": "code",
   "execution_count": null,
   "id": "9e2f843c",
   "metadata": {},
   "outputs": [],
   "source": []
  }
 ],
 "metadata": {
  "kernelspec": {
   "display_name": "Python 3 (ipykernel)",
   "language": "python",
   "name": "python3"
  },
  "language_info": {
   "codemirror_mode": {
    "name": "ipython",
    "version": 3
   },
   "file_extension": ".py",
   "mimetype": "text/x-python",
   "name": "python",
   "nbconvert_exporter": "python",
   "pygments_lexer": "ipython3",
   "version": "3.10.7"
  }
 },
 "nbformat": 4,
 "nbformat_minor": 5
}
