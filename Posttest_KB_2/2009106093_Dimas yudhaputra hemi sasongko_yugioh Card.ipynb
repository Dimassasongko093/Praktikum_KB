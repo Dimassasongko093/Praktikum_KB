{
 "cells": [
  {
   "cell_type": "code",
   "execution_count": null,
   "id": "277d9e03",
   "metadata": {},
   "outputs": [],
   "source": [
    "# Yu-Gi-Oh! Trading Cards Dataset"
   ]
  },
  {
   "cell_type": "markdown",
   "id": "b900b38c",
   "metadata": {},
   "source": [
    "## Import Pandas Package\n",
    "Import pandas sebagai pd\n",
    "dan df membaca dataset "
   ]
  },
  {
   "cell_type": "code",
   "execution_count": null,
   "id": "e9428320",
   "metadata": {},
   "outputs": [],
   "source": []
  }
 ],
 "metadata": {
  "kernelspec": {
   "display_name": "Python 3 (ipykernel)",
   "language": "python",
   "name": "python3"
  },
  "language_info": {
   "codemirror_mode": {
    "name": "ipython",
    "version": 3
   },
   "file_extension": ".py",
   "mimetype": "text/x-python",
   "name": "python",
   "nbconvert_exporter": "python",
   "pygments_lexer": "ipython3",
   "version": "3.10.7"
  }
 },
 "nbformat": 4,
 "nbformat_minor": 5
}
