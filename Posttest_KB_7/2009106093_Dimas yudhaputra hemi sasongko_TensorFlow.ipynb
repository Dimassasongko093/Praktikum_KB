{
 "cells": [
  {
   "cell_type": "markdown",
   "id": "16ef3bc9",
   "metadata": {},
   "source": [
    "# POSTTEST 7\n",
    "\n",
    "Dimas sasongko_2009106093\n",
    "## TensorFlow"
   ]
  },
  {
   "cell_type": "markdown",
   "id": "4143c0ae",
   "metadata": {},
   "source": [
    "## > Import Package ------------------------------------------------------------------------------------------------------------"
   ]
  },
  {
   "cell_type": "code",
   "execution_count": 32,
   "id": "405e6bab",
   "metadata": {},
   "outputs": [],
   "source": [
    "import tensorflow as tf\n",
    "import numpy as np"
   ]
  },
  {
   "cell_type": "markdown",
   "id": "1bf16a70",
   "metadata": {},
   "source": [
    "### > Buatlah sebuah tensor dengan shape(5,5) dengan nilai random yang disimpan dalam variable random_tensor"
   ]
  },
  {
   "cell_type": "code",
   "execution_count": 33,
   "id": "29fc6280",
   "metadata": {},
   "outputs": [],
   "source": [
    "tf_Random = tf.random.normal([5, 5], mean=0, stddev=1, seed=1).numpy()"
   ]
  },
  {
   "cell_type": "markdown",
   "id": "c029ecfe",
   "metadata": {},
   "source": [
    "### > Buatlah sebuah tensor dengan shape(5,5) dari sebuah list dengan nilai bilangan prima dalam variable prime_tensor"
   ]
  },
  {
   "cell_type": "code",
   "execution_count": 34,
   "id": "9a698c20",
   "metadata": {},
   "outputs": [],
   "source": [
    "tf_Prima = tf.constant([2, 3, 5, 7, 11, 13, 17, 19, 23, 29, 31, 37, 41, 43, 47, 53, 59, 61, 71, 73, 79, 83, 89, 97, 101], shape=[5, 5], dtype=tf.float32)"
   ]
  },
  {
   "cell_type": "markdown",
   "id": "53b13197",
   "metadata": {},
   "source": [
    "### > Tampilkan dimensi dari kedua variable tersebut"
   ]
  },
  {
   "cell_type": "code",
   "execution_count": 35,
   "id": "c91d27d1",
   "metadata": {},
   "outputs": [
    {
     "data": {
      "text/plain": [
       "array([[ 0.02631566,  0.59973025,  2.1930096 ,  0.70548636, -0.15317097],\n",
       "       [-0.87380695, -0.41602153,  0.10885387, -0.30898607, -0.08477694],\n",
       "       [-1.4043791 ,  0.3359162 , -0.5440277 , -0.6701393 , -1.1809127 ],\n",
       "       [-1.1672325 ,  1.168095  , -0.6827249 ,  1.2158072 ,  0.6584982 ],\n",
       "       [ 0.20425868,  0.07945652,  0.07206825, -0.4303542 , -0.32767358]],\n",
       "      dtype=float32)"
      ]
     },
     "execution_count": 35,
     "metadata": {},
     "output_type": "execute_result"
    }
   ],
   "source": [
    "tf_Random"
   ]
  },
  {
   "cell_type": "markdown",
   "id": "f3f10eb4",
   "metadata": {},
   "source": [
    "tf_Prima"
   ]
  },
  {
   "cell_type": "markdown",
   "id": "6939f854",
   "metadata": {},
   "source": [
    "### > Tampilkan hasil dari perhitungan aritmetika 2 variable tersebut (Gunakan minimal 5 operator)"
   ]
  },
  {
   "cell_type": "markdown",
   "id": "142118e8",
   "metadata": {},
   "source": [
    "1. Aritmatika pertambahan (add)"
   ]
  },
  {
   "cell_type": "code",
   "execution_count": 36,
   "id": "40f23974",
   "metadata": {},
   "outputs": [
    {
     "name": "stdout",
     "output_type": "stream",
     "text": [
      "Hasil pertambahan : [[  2.0263157   3.5997303   7.1930094   7.7054863  10.846829 ]\n",
      " [ 12.126193   16.583979   19.108854   22.691013   28.915222 ]\n",
      " [ 29.595621   37.335915   40.45597    42.32986    45.819088 ]\n",
      " [ 51.832767   60.168095   60.317276   72.215805   73.6585   ]\n",
      " [ 79.20426    83.07946    89.07207    96.56965   100.672325 ]]\n"
     ]
    }
   ],
   "source": [
    "print(\"Hasil pertambahan :\",tf.add(tf_Random,tf_Prima).numpy())"
   ]
  },
  {
   "cell_type": "markdown",
   "id": "451ceef6",
   "metadata": {},
   "source": [
    "2. Aritmatika pengurangan (subtract)"
   ]
  },
  {
   "cell_type": "code",
   "execution_count": 37,
   "id": "74ae7021",
   "metadata": {},
   "outputs": [
    {
     "name": "stdout",
     "output_type": "stream",
     "text": [
      "Hasil pengurangan : [[  -1.9736843   -2.4002697   -2.8069904   -6.2945137  -11.153171 ]\n",
      " [ -13.873807   -17.416021   -18.891146   -23.308987   -29.084778 ]\n",
      " [ -32.40438    -36.664085   -41.54403    -43.67014    -48.180912 ]\n",
      " [ -54.167233   -57.831905   -61.682724   -69.784195   -72.3415   ]\n",
      " [ -78.79574    -82.92054    -88.92793    -97.43035   -101.327675 ]]\n"
     ]
    }
   ],
   "source": [
    "print(\"Hasil pengurangan :\",tf.subtract(tf_Random, tf_Prima).numpy())"
   ]
  },
  {
   "cell_type": "markdown",
   "id": "cb63c11a",
   "metadata": {},
   "source": [
    "3. Aritmatika perkalian (multiply)"
   ]
  },
  {
   "cell_type": "code",
   "execution_count": 38,
   "id": "73d6e291",
   "metadata": {},
   "outputs": [
    {
     "name": "stdout",
     "output_type": "stream",
     "text": [
      "hasil perkalian : [[ 5.2631319e-02  1.7991908e+00  1.0965048e+01  4.9384046e+00\n",
      "  -1.6848807e+00]\n",
      " [-1.1359490e+01 -7.0723658e+00  2.0682235e+00 -7.1066794e+00\n",
      "  -2.4585311e+00]\n",
      " [-4.3535751e+01  1.2428899e+01 -2.2305136e+01 -2.8815990e+01\n",
      "  -5.5502899e+01]\n",
      " [-6.1863323e+01  6.8917603e+01 -4.1646217e+01  8.6322311e+01\n",
      "   4.8070370e+01]\n",
      " [ 1.6136436e+01  6.5948915e+00  6.4140744e+00 -4.1744358e+01\n",
      "  -3.3095032e+01]]\n"
     ]
    }
   ],
   "source": [
    "print(\"hasil perkalian :\",tf.multiply(tf_Random, tf_Prima).numpy())"
   ]
  },
  {
   "cell_type": "markdown",
   "id": "32d83439",
   "metadata": {},
   "source": [
    "4. Aritmatika pembagian (divide)"
   ]
  },
  {
   "cell_type": "code",
   "execution_count": 39,
   "id": "b6fc4551",
   "metadata": {},
   "outputs": [
    {
     "name": "stdout",
     "output_type": "stream",
     "text": [
      "hasil pembagian = [[ 0.01315783  0.19991009  0.4386019   0.10078377 -0.01392463]\n",
      " [-0.06721592 -0.02447185  0.00572915 -0.01343418 -0.00292334]\n",
      " [-0.04530255  0.00907882 -0.01326897 -0.01558464 -0.0251258 ]\n",
      " [-0.02202326  0.01979822 -0.01119221  0.01712405  0.00902052]\n",
      " [ 0.00258555  0.00095731  0.00080976 -0.00443664 -0.00324429]]\n"
     ]
    }
   ],
   "source": [
    "print(\"hasil pembagian =\",tf.divide (tf_Random, tf_Prima).numpy())"
   ]
  },
  {
   "cell_type": "markdown",
   "id": "6b2e0a55",
   "metadata": {},
   "source": [
    "5. Aritmatika logaritma (math.log)"
   ]
  },
  {
   "cell_type": "code",
   "execution_count": 40,
   "id": "c962e1e8",
   "metadata": {},
   "outputs": [
    {
     "name": "stdout",
     "output_type": "stream",
     "text": [
      "hasil logaritma math.log = [[-3.6375911  -0.5112753   0.78527486 -0.34886786         nan]\n",
      " [        nan         nan -2.2177489          nan         nan]\n",
      " [        nan -1.0908935          nan         nan         nan]\n",
      " [        nan  0.15537421         nan  0.19540821 -0.41779348]\n",
      " [-1.588368   -2.5325453  -2.6301417          nan         nan]]\n"
     ]
    }
   ],
   "source": [
    "print(\"hasil logaritma math.log =\", tf.math.log (tf_Random, tf_Prima).numpy())"
   ]
  },
  {
   "cell_type": "markdown",
   "id": "d32ea938",
   "metadata": {},
   "source": [
    "##### > Tampilkan nilai maksimal dan minimal dari variable random_tensor"
   ]
  },
  {
   "cell_type": "markdown",
   "id": "9ddfe93b",
   "metadata": {},
   "source": [
    "Nilai Maksimal"
   ]
  },
  {
   "cell_type": "code",
   "execution_count": 41,
   "id": "3c9c83f1",
   "metadata": {},
   "outputs": [
    {
     "name": "stdout",
     "output_type": "stream",
     "text": [
      "Nilai Maksimal : [4 3 0 3 3]\n"
     ]
    }
   ],
   "source": [
    "print(\"Nilai Maksimal :\", tf.argmax(tf_Random, axis=0).numpy())"
   ]
  },
  {
   "cell_type": "markdown",
   "id": "fc27358b",
   "metadata": {},
   "source": [
    "Nilai Minimal"
   ]
  },
  {
   "cell_type": "code",
   "execution_count": 42,
   "id": "04505937",
   "metadata": {},
   "outputs": [
    {
     "name": "stdout",
     "output_type": "stream",
     "text": [
      "Nilai Minimal : [2 1 3 2 2]\n"
     ]
    }
   ],
   "source": [
    "print(\"Nilai Minimal :\",tf.argmin(tf_Random, axis=0).numpy())"
   ]
  },
  {
   "cell_type": "markdown",
   "id": "a7510675",
   "metadata": {},
   "source": [
    "### > Tampilkan hasil dari penggabungan variable random_tensor dengan prime_tensor (concatenation)"
   ]
  },
  {
   "cell_type": "code",
   "execution_count": 43,
   "id": "ee42ea3e",
   "metadata": {},
   "outputs": [
    {
     "name": "stdout",
     "output_type": "stream",
     "text": [
      "size original data: (5, 5) (5, 5)\n",
      "size concatenated data: (10, 5)\n"
     ]
    }
   ],
   "source": [
    "tf_Random = tf.random.normal([5,5], mean=0, stddev=1, seed=1)\n",
    "tf_Prima = tf.constant([2, 3, 5, 7, 11, 13, 17, 19, 23, 29, 31, 37, 41, 43, 47, 53, 59, 61, 71, 73, 79, 83, 89, 97, 101], shape=[5, 5], dtype=tf.float32)\n",
    "print(\"size original data:\",tf_Random.shape,tf_Prima.shape)\n",
    "concated_tensor = tf.concat([tf_Random,tf_Prima],axis=0)\n",
    "print(\"size concatenated data:\",concated_tensor.shape)"
   ]
  },
  {
   "cell_type": "markdown",
   "id": "768da3cf",
   "metadata": {},
   "source": [
    "### > Tampilkan hasil sorting dari kedua variable di atas. (descending)"
   ]
  },
  {
   "cell_type": "code",
   "execution_count": 48,
   "id": "1f2febae",
   "metadata": {},
   "outputs": [
    {
     "name": "stdout",
     "output_type": "stream",
     "text": [
      "existing Random tensor data: [[-0.09829053  1.2328393   1.0841055  -0.03147423  0.8239386 ]\n",
      " [-1.343977   -0.5825029  -1.2442445   0.78904885 -1.5128906 ]\n",
      " [ 2.1204236   0.8943947  -0.08512403 -3.0256145   0.0541295 ]\n",
      " [ 0.4327671  -0.29732513  0.9791035   1.6596949   0.11454969]\n",
      " [ 0.01530319 -0.2602644  -0.7217767  -0.8932251   0.35070774]]\n",
      "random tensor sorted by descending order: [[ 1.2328393   1.0841055   0.8239386  -0.03147423 -0.09829053]\n",
      " [ 0.78904885 -0.5825029  -1.2442445  -1.343977   -1.5128906 ]\n",
      " [ 2.1204236   0.8943947   0.0541295  -0.08512403 -3.0256145 ]\n",
      " [ 1.6596949   0.9791035   0.4327671   0.11454969 -0.29732513]\n",
      " [ 0.35070774  0.01530319 -0.2602644  -0.7217767  -0.8932251 ]]\n"
     ]
    }
   ],
   "source": [
    "print(\"existing Random tensor data:\",tf_Random.numpy())\n",
    "sorted_random = tf.sort(tf_Random, direction = \"DESCENDING\")\n",
    "print(\"random tensor sorted by descending order:\",sorted_random.numpy())"
   ]
  },
  {
   "cell_type": "code",
   "execution_count": 47,
   "id": "f330e010",
   "metadata": {},
   "outputs": [
    {
     "name": "stdout",
     "output_type": "stream",
     "text": [
      "existing prime tensor data: [[  2.   3.   5.   7.  11.]\n",
      " [ 13.  17.  19.  23.  29.]\n",
      " [ 31.  37.  41.  43.  47.]\n",
      " [ 53.  59.  61.  71.  73.]\n",
      " [ 79.  83.  89.  97. 101.]]\n",
      "prime tensor sorted by descending order: [[ 11.   7.   5.   3.   2.]\n",
      " [ 29.  23.  19.  17.  13.]\n",
      " [ 47.  43.  41.  37.  31.]\n",
      " [ 73.  71.  61.  59.  53.]\n",
      " [101.  97.  89.  83.  79.]]\n"
     ]
    }
   ],
   "source": [
    "print(\"existing prime tensor data:\",tf_Prima.numpy())\n",
    "sorted_prime = tf.sort(tf_Prima, direction = \"DESCENDING\")\n",
    "print(\"prime tensor sorted by descending order:\",sorted_prime.numpy())"
   ]
  },
  {
   "cell_type": "markdown",
   "id": "28086fb5",
   "metadata": {},
   "source": [
    "# ----------------------------------------------END--------------------------------------------------------"
   ]
  }
 ],
 "metadata": {
  "kernelspec": {
   "display_name": "Python 3 (ipykernel)",
   "language": "python",
   "name": "python3"
  },
  "language_info": {
   "codemirror_mode": {
    "name": "ipython",
    "version": 3
   },
   "file_extension": ".py",
   "mimetype": "text/x-python",
   "name": "python",
   "nbconvert_exporter": "python",
   "pygments_lexer": "ipython3",
   "version": "3.10.7"
  }
 },
 "nbformat": 4,
 "nbformat_minor": 5
}
