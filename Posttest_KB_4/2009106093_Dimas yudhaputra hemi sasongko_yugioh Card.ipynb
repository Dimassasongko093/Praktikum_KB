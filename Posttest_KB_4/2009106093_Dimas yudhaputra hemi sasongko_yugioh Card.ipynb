{
 "cells": [
  {
   "cell_type": "markdown",
   "id": "4a077772",
   "metadata": {},
   "source": [
    "# POSTTEST 4\n",
    "Dimas sasongko_2009106093\n",
    "\n",
    "## Visualiasi data Yu-Gi-Oh! Trading Cards Dataset!"
   ]
  },
  {
   "cell_type": "markdown",
   "id": "48674594",
   "metadata": {},
   "source": [
    "## Import Package -------------------------------------------------------------------------"
   ]
  },
  {
   "cell_type": "code",
   "execution_count": 154,
   "id": "7e414c28",
   "metadata": {
    "vscode": {
     "languageId": "plaintext"
    }
   },
   "outputs": [],
   "source": [
    "import pandas as pd\n",
    "import matplotlib.pyplot as plt\n",
    "import seaborn as sns\n",
    "import numpy as np\n",
    "\n",
    "#Data Split#\n",
    "from sklearn.model_selection import train_test_split\n",
    "\n",
    "#Data Transforming#\n",
    "from sklearn.preprocessing import StandardScaler \n",
    "from sklearn.preprocessing import MinMaxScaler\n",
    "\n",
    "#Data Cleaning#\n",
    "from sklearn.impute import SimpleImputer\n",
    "\n",
    "#Data Encoding#\n",
    "from sklearn.preprocessing import OrdinalEncoder\n",
    "from sklearn.preprocessing import OneHotEncoder"
   ]
  },
  {
   "cell_type": "code",
   "execution_count": 155,
   "id": "8bb28712",
   "metadata": {},
   "outputs": [
    {
     "data": {
      "text/html": [
       "<div>\n",
       "<style scoped>\n",
       "    .dataframe tbody tr th:only-of-type {\n",
       "        vertical-align: middle;\n",
       "    }\n",
       "\n",
       "    .dataframe tbody tr th {\n",
       "        vertical-align: top;\n",
       "    }\n",
       "\n",
       "    .dataframe thead th {\n",
       "        text-align: right;\n",
       "    }\n",
       "</style>\n",
       "<table border=\"1\" class=\"dataframe\">\n",
       "  <thead>\n",
       "    <tr style=\"text-align: right;\">\n",
       "      <th></th>\n",
       "      <th>Name</th>\n",
       "      <th>Type</th>\n",
       "      <th>Level</th>\n",
       "      <th>Race</th>\n",
       "      <th>Attribute</th>\n",
       "      <th>ATK</th>\n",
       "      <th>DEF</th>\n",
       "    </tr>\n",
       "  </thead>\n",
       "  <tbody>\n",
       "    <tr>\n",
       "      <th>0</th>\n",
       "      <td>Limit Reverse</td>\n",
       "      <td>Trap Card</td>\n",
       "      <td>NaN</td>\n",
       "      <td>Continuous</td>\n",
       "      <td>NaN</td>\n",
       "      <td>NaN</td>\n",
       "      <td>NaN</td>\n",
       "    </tr>\n",
       "    <tr>\n",
       "      <th>1</th>\n",
       "      <td>The 13th Grave</td>\n",
       "      <td>Normal Monster</td>\n",
       "      <td>3.0</td>\n",
       "      <td>Zombie</td>\n",
       "      <td>DARK</td>\n",
       "      <td>1200.0</td>\n",
       "      <td>900.0</td>\n",
       "    </tr>\n",
       "    <tr>\n",
       "      <th>2</th>\n",
       "      <td>Gem-Enhancement</td>\n",
       "      <td>Trap Card</td>\n",
       "      <td>NaN</td>\n",
       "      <td>Normal</td>\n",
       "      <td>NaN</td>\n",
       "      <td>NaN</td>\n",
       "      <td>NaN</td>\n",
       "    </tr>\n",
       "    <tr>\n",
       "      <th>3</th>\n",
       "      <td>Magician's Circle</td>\n",
       "      <td>Trap Card</td>\n",
       "      <td>NaN</td>\n",
       "      <td>Normal</td>\n",
       "      <td>NaN</td>\n",
       "      <td>NaN</td>\n",
       "      <td>NaN</td>\n",
       "    </tr>\n",
       "    <tr>\n",
       "      <th>4</th>\n",
       "      <td>Castle of Dark Illusions</td>\n",
       "      <td>Flip Effect Monster</td>\n",
       "      <td>4.0</td>\n",
       "      <td>Fiend</td>\n",
       "      <td>DARK</td>\n",
       "      <td>920.0</td>\n",
       "      <td>1930.0</td>\n",
       "    </tr>\n",
       "    <tr>\n",
       "      <th>...</th>\n",
       "      <td>...</td>\n",
       "      <td>...</td>\n",
       "      <td>...</td>\n",
       "      <td>...</td>\n",
       "      <td>...</td>\n",
       "      <td>...</td>\n",
       "      <td>...</td>\n",
       "    </tr>\n",
       "    <tr>\n",
       "      <th>6529</th>\n",
       "      <td>Wattcancel</td>\n",
       "      <td>Trap Card</td>\n",
       "      <td>NaN</td>\n",
       "      <td>Counter</td>\n",
       "      <td>NaN</td>\n",
       "      <td>NaN</td>\n",
       "      <td>NaN</td>\n",
       "    </tr>\n",
       "    <tr>\n",
       "      <th>6530</th>\n",
       "      <td>Paleozoic Anomalocaris</td>\n",
       "      <td>XYZ Monster</td>\n",
       "      <td>2.0</td>\n",
       "      <td>Aqua</td>\n",
       "      <td>WATER</td>\n",
       "      <td>2400.0</td>\n",
       "      <td>0.0</td>\n",
       "    </tr>\n",
       "    <tr>\n",
       "      <th>6531</th>\n",
       "      <td>Dark Magician</td>\n",
       "      <td>Normal Monster</td>\n",
       "      <td>7.0</td>\n",
       "      <td>Spellcaster</td>\n",
       "      <td>DARK</td>\n",
       "      <td>2500.0</td>\n",
       "      <td>2100.0</td>\n",
       "    </tr>\n",
       "    <tr>\n",
       "      <th>6532</th>\n",
       "      <td>Odd-Eyes Pendulum Dragon</td>\n",
       "      <td>Pendulum Effect Monster</td>\n",
       "      <td>7.0</td>\n",
       "      <td>Dragon</td>\n",
       "      <td>DARK</td>\n",
       "      <td>2500.0</td>\n",
       "      <td>2000.0</td>\n",
       "    </tr>\n",
       "    <tr>\n",
       "      <th>6533</th>\n",
       "      <td>Stardust Dragon</td>\n",
       "      <td>Synchro Monster</td>\n",
       "      <td>8.0</td>\n",
       "      <td>Dragon</td>\n",
       "      <td>WIND</td>\n",
       "      <td>2500.0</td>\n",
       "      <td>2000.0</td>\n",
       "    </tr>\n",
       "  </tbody>\n",
       "</table>\n",
       "<p>6534 rows × 7 columns</p>\n",
       "</div>"
      ],
      "text/plain": [
       "                          Name                     Type  Level         Race  \\\n",
       "0                Limit Reverse                Trap Card    NaN   Continuous   \n",
       "1               The 13th Grave           Normal Monster    3.0       Zombie   \n",
       "2              Gem-Enhancement                Trap Card    NaN       Normal   \n",
       "3            Magician's Circle                Trap Card    NaN       Normal   \n",
       "4     Castle of Dark Illusions      Flip Effect Monster    4.0        Fiend   \n",
       "...                        ...                      ...    ...          ...   \n",
       "6529                Wattcancel                Trap Card    NaN      Counter   \n",
       "6530    Paleozoic Anomalocaris              XYZ Monster    2.0         Aqua   \n",
       "6531             Dark Magician           Normal Monster    7.0  Spellcaster   \n",
       "6532  Odd-Eyes Pendulum Dragon  Pendulum Effect Monster    7.0       Dragon   \n",
       "6533           Stardust Dragon          Synchro Monster    8.0       Dragon   \n",
       "\n",
       "     Attribute     ATK     DEF  \n",
       "0          NaN     NaN     NaN  \n",
       "1         DARK  1200.0   900.0  \n",
       "2          NaN     NaN     NaN  \n",
       "3          NaN     NaN     NaN  \n",
       "4         DARK   920.0  1930.0  \n",
       "...        ...     ...     ...  \n",
       "6529       NaN     NaN     NaN  \n",
       "6530     WATER  2400.0     0.0  \n",
       "6531      DARK  2500.0  2100.0  \n",
       "6532      DARK  2500.0  2000.0  \n",
       "6533      WIND  2500.0  2000.0  \n",
       "\n",
       "[6534 rows x 7 columns]"
      ]
     },
     "execution_count": 155,
     "metadata": {},
     "output_type": "execute_result"
    }
   ],
   "source": [
    "df = pd.read_csv(\"card_data.csv\")\n",
    "df"
   ]
  },
  {
   "cell_type": "code",
   "execution_count": 156,
   "id": "392cf945",
   "metadata": {},
   "outputs": [
    {
     "name": "stdout",
     "output_type": "stream",
     "text": [
      "<class 'pandas.core.frame.DataFrame'>\n",
      "RangeIndex: 6534 entries, 0 to 6533\n",
      "Data columns (total 7 columns):\n",
      " #   Column     Non-Null Count  Dtype  \n",
      "---  ------     --------------  -----  \n",
      " 0   Name       6534 non-null   object \n",
      " 1   Type       6534 non-null   object \n",
      " 2   Level      4275 non-null   float64\n",
      " 3   Race       6534 non-null   object \n",
      " 4   Attribute  4275 non-null   object \n",
      " 5   ATK        4275 non-null   float64\n",
      " 6   DEF        4275 non-null   float64\n",
      "dtypes: float64(3), object(4)\n",
      "memory usage: 357.5+ KB\n"
     ]
    }
   ],
   "source": [
    "#Info\n",
    "#df = df.fillna(0)\n",
    "df.info()"
   ]
  },
  {
   "cell_type": "code",
   "execution_count": 157,
   "id": "df18ed98",
   "metadata": {},
   "outputs": [
    {
     "data": {
      "text/html": [
       "<div>\n",
       "<style scoped>\n",
       "    .dataframe tbody tr th:only-of-type {\n",
       "        vertical-align: middle;\n",
       "    }\n",
       "\n",
       "    .dataframe tbody tr th {\n",
       "        vertical-align: top;\n",
       "    }\n",
       "\n",
       "    .dataframe thead th {\n",
       "        text-align: right;\n",
       "    }\n",
       "</style>\n",
       "<table border=\"1\" class=\"dataframe\">\n",
       "  <thead>\n",
       "    <tr style=\"text-align: right;\">\n",
       "      <th></th>\n",
       "      <th>Level</th>\n",
       "      <th>ATK</th>\n",
       "      <th>DEF</th>\n",
       "    </tr>\n",
       "  </thead>\n",
       "  <tbody>\n",
       "    <tr>\n",
       "      <th>count</th>\n",
       "      <td>4275.000000</td>\n",
       "      <td>4275.000000</td>\n",
       "      <td>4275.000000</td>\n",
       "    </tr>\n",
       "    <tr>\n",
       "      <th>mean</th>\n",
       "      <td>4.449591</td>\n",
       "      <td>1455.553216</td>\n",
       "      <td>1212.318129</td>\n",
       "    </tr>\n",
       "    <tr>\n",
       "      <th>std</th>\n",
       "      <td>2.185045</td>\n",
       "      <td>899.165365</td>\n",
       "      <td>802.966529</td>\n",
       "    </tr>\n",
       "    <tr>\n",
       "      <th>min</th>\n",
       "      <td>1.000000</td>\n",
       "      <td>0.000000</td>\n",
       "      <td>0.000000</td>\n",
       "    </tr>\n",
       "    <tr>\n",
       "      <th>25%</th>\n",
       "      <td>3.000000</td>\n",
       "      <td>800.000000</td>\n",
       "      <td>600.000000</td>\n",
       "    </tr>\n",
       "    <tr>\n",
       "      <th>50%</th>\n",
       "      <td>4.000000</td>\n",
       "      <td>1500.000000</td>\n",
       "      <td>1200.000000</td>\n",
       "    </tr>\n",
       "    <tr>\n",
       "      <th>75%</th>\n",
       "      <td>6.000000</td>\n",
       "      <td>2100.000000</td>\n",
       "      <td>1800.000000</td>\n",
       "    </tr>\n",
       "    <tr>\n",
       "      <th>max</th>\n",
       "      <td>12.000000</td>\n",
       "      <td>5000.000000</td>\n",
       "      <td>5000.000000</td>\n",
       "    </tr>\n",
       "  </tbody>\n",
       "</table>\n",
       "</div>"
      ],
      "text/plain": [
       "             Level          ATK          DEF\n",
       "count  4275.000000  4275.000000  4275.000000\n",
       "mean      4.449591  1455.553216  1212.318129\n",
       "std       2.185045   899.165365   802.966529\n",
       "min       1.000000     0.000000     0.000000\n",
       "25%       3.000000   800.000000   600.000000\n",
       "50%       4.000000  1500.000000  1200.000000\n",
       "75%       6.000000  2100.000000  1800.000000\n",
       "max      12.000000  5000.000000  5000.000000"
      ]
     },
     "execution_count": 157,
     "metadata": {},
     "output_type": "execute_result"
    }
   ],
   "source": [
    "df.describe()"
   ]
  },
  {
   "cell_type": "code",
   "execution_count": 158,
   "id": "21546e24",
   "metadata": {},
   "outputs": [
    {
     "data": {
      "text/plain": [
       "Name            0\n",
       "Type            0\n",
       "Level        2259\n",
       "Race            0\n",
       "Attribute    2259\n",
       "ATK          2259\n",
       "DEF          2259\n",
       "dtype: int64"
      ]
     },
     "execution_count": 158,
     "metadata": {},
     "output_type": "execute_result"
    }
   ],
   "source": [
    "df.isna().sum()"
   ]
  },
  {
   "cell_type": "code",
   "execution_count": 159,
   "id": "2a60de93",
   "metadata": {},
   "outputs": [
    {
     "name": "stdout",
     "output_type": "stream",
     "text": [
      "panjang dataset 6534 Row\n"
     ]
    }
   ],
   "source": [
    "print(f'panjang dataset {len(df)} Row')"
   ]
  },
  {
   "cell_type": "markdown",
   "id": "d38adc62",
   "metadata": {},
   "source": [
    "## Data split -------------------------------------------------------------------------\n",
    "Train/test split adalah salah satu metode yang dapat digunakan untuk\n",
    "mengevaluasi performa model machine learning. Metode evaluasi model ini\n",
    "membagi dataset menjadi dua bagian yakni bagian yang digunakan untuk training\n",
    "data dan untuk testing data dengan proporsi tertentu."
   ]
  },
  {
   "cell_type": "code",
   "execution_count": 160,
   "id": "bd775a41",
   "metadata": {},
   "outputs": [],
   "source": [
    "x = df.iloc[:,:-1]\n",
    "y = df.iloc[:,-1]"
   ]
  },
  {
   "cell_type": "code",
   "execution_count": 161,
   "id": "f14407f9",
   "metadata": {},
   "outputs": [],
   "source": [
    "x_train, x_test, y_train, y_test = train_test_split(x, y, test_size=.3)"
   ]
  },
  {
   "cell_type": "code",
   "execution_count": 162,
   "id": "f652941b",
   "metadata": {},
   "outputs": [
    {
     "name": "stdout",
     "output_type": "stream",
     "text": [
      "Panjang X_train : 4573\n",
      "Panjang X_test : 1961\n",
      "Panjang y_train : 4573\n",
      "Panjang y_test : 1961\n"
     ]
    }
   ],
   "source": [
    "print(f\"Panjang X_train : {len(x_train)}\",\n",
    "      f\"Panjang X_test : {len(x_test)}\",\n",
    "      f\"Panjang y_train : {len(y_train)}\",\n",
    "      f\"Panjang y_test : {len(y_test)}\",\n",
    "      sep='\\n')"
   ]
  },
  {
   "cell_type": "markdown",
   "id": "e9da1f45",
   "metadata": {},
   "source": [
    "## Data Transformasi -------------------------------------------------------------------------\n",
    "Transformasi data adalah merubah skala data kedalam bentuk lain sehingga\n",
    "data memiliki distribusi yang diharapkan.Scaling adalah suatu cara untuk membuat\n",
    "numerical data pada dataset memiliki rentang nilai (scale) yang sama. Tidak ada lagi\n",
    "satu variabel data yang mendominasi variabel data lainnya.Teknik penskalaan yang\n",
    "biasa dipakai yaitu normalisasi dan standardisasi"
   ]
  },
  {
   "cell_type": "markdown",
   "id": "e5806b99",
   "metadata": {},
   "source": [
    "### Normalisasi \n",
    "Normalisasi adalah proses penskalaan data menjadi rentang [0, 1]."
   ]
  },
  {
   "cell_type": "code",
   "execution_count": 163,
   "id": "6707b4fa",
   "metadata": {},
   "outputs": [],
   "source": [
    "normalize_dataset = df.copy()"
   ]
  },
  {
   "cell_type": "code",
   "execution_count": 164,
   "id": "33c623ac",
   "metadata": {},
   "outputs": [
    {
     "data": {
      "text/html": [
       "<div>\n",
       "<style scoped>\n",
       "    .dataframe tbody tr th:only-of-type {\n",
       "        vertical-align: middle;\n",
       "    }\n",
       "\n",
       "    .dataframe tbody tr th {\n",
       "        vertical-align: top;\n",
       "    }\n",
       "\n",
       "    .dataframe thead th {\n",
       "        text-align: right;\n",
       "    }\n",
       "</style>\n",
       "<table border=\"1\" class=\"dataframe\">\n",
       "  <thead>\n",
       "    <tr style=\"text-align: right;\">\n",
       "      <th></th>\n",
       "      <th>Level</th>\n",
       "      <th>ATK</th>\n",
       "      <th>DEF</th>\n",
       "    </tr>\n",
       "  </thead>\n",
       "  <tbody>\n",
       "    <tr>\n",
       "      <th>0</th>\n",
       "      <td>NaN</td>\n",
       "      <td>NaN</td>\n",
       "      <td>NaN</td>\n",
       "    </tr>\n",
       "    <tr>\n",
       "      <th>1</th>\n",
       "      <td>0.181818</td>\n",
       "      <td>0.240</td>\n",
       "      <td>0.180</td>\n",
       "    </tr>\n",
       "    <tr>\n",
       "      <th>2</th>\n",
       "      <td>NaN</td>\n",
       "      <td>NaN</td>\n",
       "      <td>NaN</td>\n",
       "    </tr>\n",
       "    <tr>\n",
       "      <th>3</th>\n",
       "      <td>NaN</td>\n",
       "      <td>NaN</td>\n",
       "      <td>NaN</td>\n",
       "    </tr>\n",
       "    <tr>\n",
       "      <th>4</th>\n",
       "      <td>0.272727</td>\n",
       "      <td>0.184</td>\n",
       "      <td>0.386</td>\n",
       "    </tr>\n",
       "    <tr>\n",
       "      <th>5</th>\n",
       "      <td>NaN</td>\n",
       "      <td>NaN</td>\n",
       "      <td>NaN</td>\n",
       "    </tr>\n",
       "    <tr>\n",
       "      <th>6</th>\n",
       "      <td>0.636364</td>\n",
       "      <td>0.600</td>\n",
       "      <td>0.500</td>\n",
       "    </tr>\n",
       "  </tbody>\n",
       "</table>\n",
       "</div>"
      ],
      "text/plain": [
       "      Level    ATK    DEF\n",
       "0       NaN    NaN    NaN\n",
       "1  0.181818  0.240  0.180\n",
       "2       NaN    NaN    NaN\n",
       "3       NaN    NaN    NaN\n",
       "4  0.272727  0.184  0.386\n",
       "5       NaN    NaN    NaN\n",
       "6  0.636364  0.600  0.500"
      ]
     },
     "execution_count": 164,
     "metadata": {},
     "output_type": "execute_result"
    }
   ],
   "source": [
    "scaler = MinMaxScaler()\n",
    "\n",
    "normalize_dataset = scaler.fit_transform(normalize_dataset[['Level', 'ATK', 'DEF']])\n",
    "\n",
    "normalize_dataset = pd.DataFrame(normalize_dataset)\n",
    "normalize_dataset.rename(columns={0 :'Level', 1 :'ATK', 2 : 'DEF'}, inplace=True)\n",
    "normalize_dataset.head(7)"
   ]
  },
  {
   "cell_type": "markdown",
   "id": "8267c2dd",
   "metadata": {},
   "source": [
    "## Standarisasi -------------------------------------------------------------------------\n",
    "adalah proses penskalaan data sehingga memiliki nilai\n",
    "rata-rata 0 dan standar deviasi 1."
   ]
  },
  {
   "cell_type": "code",
   "execution_count": 165,
   "id": "2fe64dbe",
   "metadata": {},
   "outputs": [],
   "source": [
    "dataset = df.copy()\n",
    "standarisasi_dataset = dataset"
   ]
  },
  {
   "cell_type": "code",
   "execution_count": 166,
   "id": "a893d78e",
   "metadata": {},
   "outputs": [],
   "source": [
    "st = StandardScaler()\n",
    "Scaled_data = st.fit_transform(standarisasi_dataset[['Level', 'ATK', 'DEF']])"
   ]
  },
  {
   "cell_type": "code",
   "execution_count": 167,
   "id": "71a3ed60",
   "metadata": {},
   "outputs": [
    {
     "name": "stdout",
     "output_type": "stream",
     "text": [
      "(Nilai sebelum standarisasi)\n",
      "Standar Deviasi :  Level      2.184790\n",
      "ATK      899.060194\n",
      "DEF      802.872610\n",
      "dtype: float64\n"
     ]
    },
    {
     "name": "stderr",
     "output_type": "stream",
     "text": [
      "C:\\Users\\TUF\\AppData\\Local\\Programs\\Python\\Python310\\lib\\site-packages\\numpy\\core\\fromnumeric.py:3571: FutureWarning: Dropping of nuisance columns in DataFrame reductions (with 'numeric_only=None') is deprecated; in a future version this will raise TypeError.  Select only valid columns before calling the reduction.\n",
      "  return std(axis=axis, dtype=dtype, out=out, ddof=ddof, **kwargs)\n"
     ]
    }
   ],
   "source": [
    "print(\"(Nilai sebelum standarisasi)\")\n",
    "print(\"Standar Deviasi : \", np.std(standarisasi_dataset))"
   ]
  },
  {
   "cell_type": "code",
   "execution_count": 168,
   "id": "cb73c751",
   "metadata": {},
   "outputs": [
    {
     "name": "stdout",
     "output_type": "stream",
     "text": [
      "(Nilai setelah standarisasi)\n",
      "Standar Deviasi :  nan\n"
     ]
    }
   ],
   "source": [
    "print(\"(Nilai setelah standarisasi)\")\n",
    "print(\"Standar Deviasi : \", np.std(Scaled_data))"
   ]
  },
  {
   "cell_type": "markdown",
   "id": "160fe2e0",
   "metadata": {},
   "source": [
    "## Data Cleaning -------------------------------------------------------------------------\n",
    "Data yang kita gunakan bisa jadi sangat berantakan. Ada informasi yang tak\n",
    "lengkap, ada pula format yang berbeda-beda.Semua ini tentu membuat data itu sulit\n",
    "diolah."
   ]
  },
  {
   "cell_type": "code",
   "execution_count": 169,
   "id": "7dedd19a",
   "metadata": {},
   "outputs": [],
   "source": [
    "dataset_mn = df.copy()\n",
    "dataset_md = df.copy()\n",
    "dataset_ms = df.copy()"
   ]
  },
  {
   "cell_type": "code",
   "execution_count": 170,
   "id": "05a1670c",
   "metadata": {},
   "outputs": [],
   "source": [
    "imputer_mean = SimpleImputer(strategy='mean')\n",
    "imputer_median = SimpleImputer(strategy='median')\n",
    "imputer_modus = SimpleImputer(strategy='most_frequent')"
   ]
  },
  {
   "cell_type": "markdown",
   "id": "eacc6b6d",
   "metadata": {},
   "source": [
    "### Mean"
   ]
  },
  {
   "cell_type": "code",
   "execution_count": 171,
   "id": "253dc3b5",
   "metadata": {},
   "outputs": [
    {
     "data": {
      "text/plain": [
       "Name            0\n",
       "Type            0\n",
       "Level        2259\n",
       "Race            0\n",
       "Attribute    2259\n",
       "ATK             0\n",
       "DEF          2259\n",
       "dtype: int64"
      ]
     },
     "execution_count": 171,
     "metadata": {},
     "output_type": "execute_result"
    }
   ],
   "source": [
    "dataset_mn['ATK'] = imputer_mean.fit_transform(dataset_mn[['ATK']])\n",
    "dataset_mn.isna().sum()"
   ]
  },
  {
   "cell_type": "code",
   "execution_count": 172,
   "id": "ef822922",
   "metadata": {},
   "outputs": [
    {
     "data": {
      "text/plain": [
       "Name         0\n",
       "Type         0\n",
       "Level        0\n",
       "Race         0\n",
       "Attribute    0\n",
       "ATK          0\n",
       "DEF          0\n",
       "dtype: int64"
      ]
     },
     "execution_count": 172,
     "metadata": {},
     "output_type": "execute_result"
    }
   ],
   "source": [
    "dataset_mn.dropna(inplace=True)\n",
    "dataset_mn.isna().sum()"
   ]
  },
  {
   "cell_type": "markdown",
   "id": "7c4b8c0b",
   "metadata": {},
   "source": [
    "### Median"
   ]
  },
  {
   "cell_type": "code",
   "execution_count": 173,
   "id": "c9551bce",
   "metadata": {
    "scrolled": true
   },
   "outputs": [
    {
     "data": {
      "text/plain": [
       "Name            0\n",
       "Type            0\n",
       "Level        2259\n",
       "Race            0\n",
       "Attribute    2259\n",
       "ATK          2259\n",
       "DEF             0\n",
       "dtype: int64"
      ]
     },
     "execution_count": 173,
     "metadata": {},
     "output_type": "execute_result"
    }
   ],
   "source": [
    "dataset_md['DEF'] = imputer_median.fit_transform(dataset_md[['DEF']])\n",
    "dataset_md.isna().sum()"
   ]
  },
  {
   "cell_type": "code",
   "execution_count": 174,
   "id": "6607c820",
   "metadata": {},
   "outputs": [
    {
     "data": {
      "text/plain": [
       "Name         0\n",
       "Type         0\n",
       "Level        0\n",
       "Race         0\n",
       "Attribute    0\n",
       "ATK          0\n",
       "DEF          0\n",
       "dtype: int64"
      ]
     },
     "execution_count": 174,
     "metadata": {},
     "output_type": "execute_result"
    }
   ],
   "source": [
    "dataset_md.dropna(inplace=True)\n",
    "dataset_md.isna().sum()"
   ]
  },
  {
   "cell_type": "markdown",
   "id": "114f4397",
   "metadata": {},
   "source": [
    "### Modus"
   ]
  },
  {
   "cell_type": "code",
   "execution_count": 175,
   "id": "eba954c3",
   "metadata": {},
   "outputs": [
    {
     "data": {
      "text/plain": [
       "Name         0\n",
       "Type         0\n",
       "Level        0\n",
       "Race         0\n",
       "Attribute    0\n",
       "ATK          0\n",
       "DEF          0\n",
       "dtype: int64"
      ]
     },
     "execution_count": 175,
     "metadata": {},
     "output_type": "execute_result"
    }
   ],
   "source": [
    "dataset_md['Level'] = imputer_median.fit_transform(dataset_md[['Level']])\n",
    "dataset_md.isna().sum()"
   ]
  },
  {
   "cell_type": "code",
   "execution_count": 176,
   "id": "f5fff17a",
   "metadata": {},
   "outputs": [
    {
     "data": {
      "text/plain": [
       "Name         0\n",
       "Type         0\n",
       "Level        0\n",
       "Race         0\n",
       "Attribute    0\n",
       "ATK          0\n",
       "DEF          0\n",
       "dtype: int64"
      ]
     },
     "execution_count": 176,
     "metadata": {},
     "output_type": "execute_result"
    }
   ],
   "source": [
    "dataset_md.dropna(inplace=True)\n",
    "dataset_md.isna().sum()"
   ]
  },
  {
   "cell_type": "code",
   "execution_count": 177,
   "id": "0c2813fc",
   "metadata": {},
   "outputs": [
    {
     "data": {
      "text/plain": [
       "4275"
      ]
     },
     "execution_count": 177,
     "metadata": {},
     "output_type": "execute_result"
    }
   ],
   "source": [
    "len(dataset_mn)"
   ]
  },
  {
   "cell_type": "markdown",
   "id": "ef25917a",
   "metadata": {},
   "source": [
    "### Data Duplikat "
   ]
  },
  {
   "cell_type": "code",
   "execution_count": 178,
   "id": "f9bb1d89",
   "metadata": {},
   "outputs": [
    {
     "data": {
      "text/plain": [
       "85"
      ]
     },
     "execution_count": 178,
     "metadata": {},
     "output_type": "execute_result"
    }
   ],
   "source": [
    "dataset_duplicate = df.copy()\n",
    "dataset_duplicate.duplicated().sum()"
   ]
  },
  {
   "cell_type": "code",
   "execution_count": 179,
   "id": "f20d2d08",
   "metadata": {},
   "outputs": [
    {
     "data": {
      "text/plain": [
       "0"
      ]
     },
     "execution_count": 179,
     "metadata": {},
     "output_type": "execute_result"
    }
   ],
   "source": [
    "dataset_duplicate.drop_duplicates(inplace=True)\n",
    "dataset_duplicate.duplicated().sum()"
   ]
  },
  {
   "cell_type": "markdown",
   "id": "b55aea41",
   "metadata": {},
   "source": [
    "## Data Encoding -------------------------------------------------------------------------\n",
    "Encoding adalah salah tahap pre-processing ketika kita menghadapi data\n",
    "yang bersifat kategorikal. Encoding adalah teknik yang mengubah variabel\n",
    "kategorikal menjadi variabel numerik, model dalam machine learning membutuhkan\n",
    "input yang bertipe numerik sehingga sangat penting bagi kita untuk melakukan\n",
    "encoding jika terdapat variabel yang bertipe kategorikal didalam data kita."
   ]
  },
  {
   "cell_type": "code",
   "execution_count": 180,
   "id": "e8daabfc",
   "metadata": {},
   "outputs": [],
   "source": [
    "dataset_ordinal = df.copy()\n",
    "dataset_one_hot = df.copy()"
   ]
  },
  {
   "cell_type": "code",
   "execution_count": 181,
   "id": "a03196e7",
   "metadata": {},
   "outputs": [
    {
     "data": {
      "text/plain": [
       "array(['Continuous', 'Zombie', 'Normal', 'Fiend', 'Quick-Play', 'Rock',\n",
       "       'Warrior', 'Winged Beast', 'Spellcaster', 'Beast', 'Fairy',\n",
       "       'Equip', 'Field', 'Fish', 'Beast-Warrior', 'Thunder', 'Machine',\n",
       "       'Sea Serpent', 'Aqua', 'Plant', 'Dragon', 'Reptile', 'Counter',\n",
       "       'Psychic', 'Insect', 'Pyro', 'Dinosaur', 'Wyrm', 'Ritual',\n",
       "       'Divine-Beast', 'Cyberse'], dtype=object)"
      ]
     },
     "execution_count": 181,
     "metadata": {},
     "output_type": "execute_result"
    }
   ],
   "source": [
    "df['Race'].unique()"
   ]
  },
  {
   "cell_type": "markdown",
   "id": "fc3bcf76",
   "metadata": {},
   "source": [
    "### Ordinal Encoding\n",
    "Dalam ordinal encoding, setiap nilai kategori yang unik akan diubah menjadi\n",
    "nilai integer. Tipe encoding ini biasa digunakan jika terdapat unsur hirarki di\n",
    "dalam variabel yang ingin diubah."
   ]
  },
  {
   "cell_type": "code",
   "execution_count": 185,
   "id": "de20926a",
   "metadata": {},
   "outputs": [
    {
     "data": {
      "text/plain": [
       "dtype('float64')"
      ]
     },
     "execution_count": 185,
     "metadata": {},
     "output_type": "execute_result"
    }
   ],
   "source": [
    "df['ATK'].dtype"
   ]
  },
  {
   "cell_type": "code",
   "execution_count": 187,
   "id": "4f590742",
   "metadata": {},
   "outputs": [
    {
     "data": {
      "text/html": [
       "<div>\n",
       "<style scoped>\n",
       "    .dataframe tbody tr th:only-of-type {\n",
       "        vertical-align: middle;\n",
       "    }\n",
       "\n",
       "    .dataframe tbody tr th {\n",
       "        vertical-align: top;\n",
       "    }\n",
       "\n",
       "    .dataframe thead th {\n",
       "        text-align: right;\n",
       "    }\n",
       "</style>\n",
       "<table border=\"1\" class=\"dataframe\">\n",
       "  <thead>\n",
       "    <tr style=\"text-align: right;\">\n",
       "      <th></th>\n",
       "      <th>Name</th>\n",
       "      <th>Type</th>\n",
       "      <th>Level</th>\n",
       "      <th>Race</th>\n",
       "      <th>Attribute</th>\n",
       "      <th>ATK</th>\n",
       "      <th>DEF</th>\n",
       "    </tr>\n",
       "  </thead>\n",
       "  <tbody>\n",
       "    <tr>\n",
       "      <th>0</th>\n",
       "      <td>Limit Reverse</td>\n",
       "      <td>Trap Card</td>\n",
       "      <td>NaN</td>\n",
       "      <td>Continuous</td>\n",
       "      <td>NaN</td>\n",
       "      <td>-9223372036854775808</td>\n",
       "      <td>NaN</td>\n",
       "    </tr>\n",
       "    <tr>\n",
       "      <th>1</th>\n",
       "      <td>The 13th Grave</td>\n",
       "      <td>Normal Monster</td>\n",
       "      <td>3.0</td>\n",
       "      <td>Zombie</td>\n",
       "      <td>DARK</td>\n",
       "      <td>24</td>\n",
       "      <td>900.0</td>\n",
       "    </tr>\n",
       "    <tr>\n",
       "      <th>2</th>\n",
       "      <td>Gem-Enhancement</td>\n",
       "      <td>Trap Card</td>\n",
       "      <td>NaN</td>\n",
       "      <td>Normal</td>\n",
       "      <td>NaN</td>\n",
       "      <td>-9223372036854775808</td>\n",
       "      <td>NaN</td>\n",
       "    </tr>\n",
       "    <tr>\n",
       "      <th>3</th>\n",
       "      <td>Magician's Circle</td>\n",
       "      <td>Trap Card</td>\n",
       "      <td>NaN</td>\n",
       "      <td>Normal</td>\n",
       "      <td>NaN</td>\n",
       "      <td>-9223372036854775808</td>\n",
       "      <td>NaN</td>\n",
       "    </tr>\n",
       "    <tr>\n",
       "      <th>4</th>\n",
       "      <td>Castle of Dark Illusions</td>\n",
       "      <td>Flip Effect Monster</td>\n",
       "      <td>4.0</td>\n",
       "      <td>Fiend</td>\n",
       "      <td>DARK</td>\n",
       "      <td>18</td>\n",
       "      <td>1930.0</td>\n",
       "    </tr>\n",
       "  </tbody>\n",
       "</table>\n",
       "</div>"
      ],
      "text/plain": [
       "                       Name                 Type  Level        Race Attribute  \\\n",
       "0             Limit Reverse            Trap Card    NaN  Continuous       NaN   \n",
       "1            The 13th Grave       Normal Monster    3.0      Zombie      DARK   \n",
       "2           Gem-Enhancement            Trap Card    NaN      Normal       NaN   \n",
       "3         Magician's Circle            Trap Card    NaN      Normal       NaN   \n",
       "4  Castle of Dark Illusions  Flip Effect Monster    4.0       Fiend      DARK   \n",
       "\n",
       "                   ATK     DEF  \n",
       "0 -9223372036854775808     NaN  \n",
       "1                   24   900.0  \n",
       "2 -9223372036854775808     NaN  \n",
       "3 -9223372036854775808     NaN  \n",
       "4                   18  1930.0  "
      ]
     },
     "execution_count": 187,
     "metadata": {},
     "output_type": "execute_result"
    }
   ],
   "source": [
    "encoder_ordinal =OrdinalEncoder()\n",
    "\n",
    "#encoding\n",
    "dataset_ordinal['ATK'] = encoder_ordinal.fit_transform(dataset_ordinal[['ATK']]).astype('int64')\n",
    "\n",
    "#Hasil\n",
    "dataset_ordinal.head()"
   ]
  },
  {
   "cell_type": "code",
   "execution_count": 188,
   "id": "4135de3e",
   "metadata": {},
   "outputs": [
    {
     "data": {
      "text/plain": [
       "array([-9223372036854775808,                   24,                   18,\n",
       "                         62,                   29,                   44,\n",
       "                         22,                    5,                    1,\n",
       "                         38,                   31,                    0,\n",
       "                         54,                   19,                   42,\n",
       "                          3,                   15,                   20,\n",
       "                         40,                    7,                   50,\n",
       "                         13,                    9,                   71,\n",
       "                         52,                   26,                   17,\n",
       "                         11,                   46,                   33,\n",
       "                         36,                   58,                   48,\n",
       "                         55,                   64,                   27,\n",
       "                         30,                   39,                   43,\n",
       "                         66,                   68,                   41,\n",
       "                          8,                   51,                    6,\n",
       "                         70,                   37,                   16,\n",
       "                         14,                   28,                   56,\n",
       "                         10,                   63,                   60,\n",
       "                         32,                   61,                   65,\n",
       "                         25,                   21,                   74,\n",
       "                         73,                    4,                   67,\n",
       "                         12,                   59,                   23,\n",
       "                         69,                   47,                   72,\n",
       "                         45,                   57,                   34,\n",
       "                         49,                   76,                   35,\n",
       "                         75,                    2,                   53],\n",
       "      dtype=int64)"
      ]
     },
     "execution_count": 188,
     "metadata": {},
     "output_type": "execute_result"
    }
   ],
   "source": [
    "dataset_ordinal['ATK'].unique()"
   ]
  },
  {
   "cell_type": "markdown",
   "id": "fb32d7ff",
   "metadata": {},
   "source": [
    "### One-Hot Encoding\n",
    "adalah salah satu metode encoding. Metode ini\n",
    "merepresentasikan data bertipe kategori sebagai vektor biner yang bernilai\n",
    "integer, 0 dan 1, dimana semua elemen akan bernilai 0 kecuali satu elemen\n",
    "yang bernilai 1, yaitu elemen yang memiliki nilai kategori tersebut."
   ]
  },
  {
   "cell_type": "code",
   "execution_count": 152,
   "id": "4b731c97",
   "metadata": {},
   "outputs": [
    {
     "data": {
      "text/html": [
       "<div>\n",
       "<style scoped>\n",
       "    .dataframe tbody tr th:only-of-type {\n",
       "        vertical-align: middle;\n",
       "    }\n",
       "\n",
       "    .dataframe tbody tr th {\n",
       "        vertical-align: top;\n",
       "    }\n",
       "\n",
       "    .dataframe thead th {\n",
       "        text-align: right;\n",
       "    }\n",
       "</style>\n",
       "<table border=\"1\" class=\"dataframe\">\n",
       "  <thead>\n",
       "    <tr style=\"text-align: right;\">\n",
       "      <th></th>\n",
       "      <th>Name</th>\n",
       "      <th>Type</th>\n",
       "      <th>Level</th>\n",
       "      <th>Race</th>\n",
       "      <th>ATK</th>\n",
       "      <th>DEF</th>\n",
       "      <th>Attribute_DARK</th>\n",
       "      <th>Attribute_DIVINE</th>\n",
       "      <th>Attribute_EARTH</th>\n",
       "      <th>Attribute_FIRE</th>\n",
       "      <th>Attribute_LIGHT</th>\n",
       "      <th>Attribute_WATER</th>\n",
       "      <th>Attribute_WIND</th>\n",
       "    </tr>\n",
       "  </thead>\n",
       "  <tbody>\n",
       "    <tr>\n",
       "      <th>0</th>\n",
       "      <td>Limit Reverse</td>\n",
       "      <td>Trap Card</td>\n",
       "      <td>NaN</td>\n",
       "      <td>Continuous</td>\n",
       "      <td>NaN</td>\n",
       "      <td>NaN</td>\n",
       "      <td>0</td>\n",
       "      <td>0</td>\n",
       "      <td>0</td>\n",
       "      <td>0</td>\n",
       "      <td>0</td>\n",
       "      <td>0</td>\n",
       "      <td>0</td>\n",
       "    </tr>\n",
       "    <tr>\n",
       "      <th>1</th>\n",
       "      <td>The 13th Grave</td>\n",
       "      <td>Normal Monster</td>\n",
       "      <td>3.0</td>\n",
       "      <td>Zombie</td>\n",
       "      <td>1200.0</td>\n",
       "      <td>900.0</td>\n",
       "      <td>1</td>\n",
       "      <td>0</td>\n",
       "      <td>0</td>\n",
       "      <td>0</td>\n",
       "      <td>0</td>\n",
       "      <td>0</td>\n",
       "      <td>0</td>\n",
       "    </tr>\n",
       "    <tr>\n",
       "      <th>2</th>\n",
       "      <td>Gem-Enhancement</td>\n",
       "      <td>Trap Card</td>\n",
       "      <td>NaN</td>\n",
       "      <td>Normal</td>\n",
       "      <td>NaN</td>\n",
       "      <td>NaN</td>\n",
       "      <td>0</td>\n",
       "      <td>0</td>\n",
       "      <td>0</td>\n",
       "      <td>0</td>\n",
       "      <td>0</td>\n",
       "      <td>0</td>\n",
       "      <td>0</td>\n",
       "    </tr>\n",
       "    <tr>\n",
       "      <th>3</th>\n",
       "      <td>Magician's Circle</td>\n",
       "      <td>Trap Card</td>\n",
       "      <td>NaN</td>\n",
       "      <td>Normal</td>\n",
       "      <td>NaN</td>\n",
       "      <td>NaN</td>\n",
       "      <td>0</td>\n",
       "      <td>0</td>\n",
       "      <td>0</td>\n",
       "      <td>0</td>\n",
       "      <td>0</td>\n",
       "      <td>0</td>\n",
       "      <td>0</td>\n",
       "    </tr>\n",
       "    <tr>\n",
       "      <th>4</th>\n",
       "      <td>Castle of Dark Illusions</td>\n",
       "      <td>Flip Effect Monster</td>\n",
       "      <td>4.0</td>\n",
       "      <td>Fiend</td>\n",
       "      <td>920.0</td>\n",
       "      <td>1930.0</td>\n",
       "      <td>1</td>\n",
       "      <td>0</td>\n",
       "      <td>0</td>\n",
       "      <td>0</td>\n",
       "      <td>0</td>\n",
       "      <td>0</td>\n",
       "      <td>0</td>\n",
       "    </tr>\n",
       "    <tr>\n",
       "      <th>5</th>\n",
       "      <td>Cipher Spectrum</td>\n",
       "      <td>Trap Card</td>\n",
       "      <td>NaN</td>\n",
       "      <td>Normal</td>\n",
       "      <td>NaN</td>\n",
       "      <td>NaN</td>\n",
       "      <td>0</td>\n",
       "      <td>0</td>\n",
       "      <td>0</td>\n",
       "      <td>0</td>\n",
       "      <td>0</td>\n",
       "      <td>0</td>\n",
       "      <td>0</td>\n",
       "    </tr>\n",
       "    <tr>\n",
       "      <th>6</th>\n",
       "      <td>Lava Golem</td>\n",
       "      <td>Effect Monster</td>\n",
       "      <td>8.0</td>\n",
       "      <td>Fiend</td>\n",
       "      <td>3000.0</td>\n",
       "      <td>2500.0</td>\n",
       "      <td>0</td>\n",
       "      <td>0</td>\n",
       "      <td>0</td>\n",
       "      <td>1</td>\n",
       "      <td>0</td>\n",
       "      <td>0</td>\n",
       "      <td>0</td>\n",
       "    </tr>\n",
       "  </tbody>\n",
       "</table>\n",
       "</div>"
      ],
      "text/plain": [
       "                       Name                 Type  Level        Race     ATK  \\\n",
       "0             Limit Reverse            Trap Card    NaN  Continuous     NaN   \n",
       "1            The 13th Grave       Normal Monster    3.0      Zombie  1200.0   \n",
       "2           Gem-Enhancement            Trap Card    NaN      Normal     NaN   \n",
       "3         Magician's Circle            Trap Card    NaN      Normal     NaN   \n",
       "4  Castle of Dark Illusions  Flip Effect Monster    4.0       Fiend   920.0   \n",
       "5           Cipher Spectrum            Trap Card    NaN      Normal     NaN   \n",
       "6                Lava Golem       Effect Monster    8.0       Fiend  3000.0   \n",
       "\n",
       "      DEF  Attribute_DARK  Attribute_DIVINE  Attribute_EARTH  Attribute_FIRE  \\\n",
       "0     NaN               0                 0                0               0   \n",
       "1   900.0               1                 0                0               0   \n",
       "2     NaN               0                 0                0               0   \n",
       "3     NaN               0                 0                0               0   \n",
       "4  1930.0               1                 0                0               0   \n",
       "5     NaN               0                 0                0               0   \n",
       "6  2500.0               0                 0                0               1   \n",
       "\n",
       "   Attribute_LIGHT  Attribute_WATER  Attribute_WIND  \n",
       "0                0                0               0  \n",
       "1                0                0               0  \n",
       "2                0                0               0  \n",
       "3                0                0               0  \n",
       "4                0                0               0  \n",
       "5                0                0               0  \n",
       "6                0                0               0  "
      ]
     },
     "execution_count": 152,
     "metadata": {},
     "output_type": "execute_result"
    }
   ],
   "source": [
    "temp_dataset = pd.get_dummies(dataset_one_hot[['Attribute']])\n",
    "temp_dataset = pd.DataFrame(temp_dataset)\n",
    "dataset_one_hot.drop('Attribute', axis=1, inplace=True)\n",
    "dataset_one_hot = dataset_one_hot.join(temp_dataset)\n",
    "dataset_one_hot.head(7)"
   ]
  },
  {
   "cell_type": "markdown",
   "id": "f1e9a0b9",
   "metadata": {},
   "source": [
    "# ----------------------------------------------END--------------------------------------------------------"
   ]
  }
 ],
 "metadata": {
  "kernelspec": {
   "display_name": "Python 3 (ipykernel)",
   "language": "python",
   "name": "python3"
  },
  "language_info": {
   "codemirror_mode": {
    "name": "ipython",
    "version": 3
   },
   "file_extension": ".py",
   "mimetype": "text/x-python",
   "name": "python",
   "nbconvert_exporter": "python",
   "pygments_lexer": "ipython3",
   "version": "3.10.7"
  }
 },
 "nbformat": 4,
 "nbformat_minor": 5
}
