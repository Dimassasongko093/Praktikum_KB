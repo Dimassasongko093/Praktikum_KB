{
 "cells": [
  {
   "cell_type": "markdown",
   "id": "4a077772",
   "metadata": {},
   "source": [
    "# POSTTEST 5\n",
    "Dimas sasongko_2009106093\n",
    "\n",
    "## Visualiasi data Yu-Gi-Oh! Trading Cards Dataset!"
   ]
  },
  {
   "cell_type": "markdown",
   "id": "48674594",
   "metadata": {},
   "source": [
    "## Import Package -------------------------------------------------------------------------"
   ]
  },
  {
   "cell_type": "code",
   "execution_count": 57,
   "id": "7e414c28",
   "metadata": {
    "vscode": {
     "languageId": "plaintext"
    }
   },
   "outputs": [],
   "source": [
    "import pandas as pd\n",
    "import matplotlib.pyplot as plt\n",
    "import seaborn as sns\n",
    "import numpy as np\n",
    "\n",
    "#Data Cleaning#\n",
    "from sklearn.impute import SimpleImputer\n",
    "\n",
    "#Classifikasi KNN#\n",
    "from sklearn.model_selection import train_test_split\n",
    "from sklearn.neighbors import KNeighborsClassifier\n",
    "from sklearn.metrics import accuracy_score\n",
    "\n",
    "#Classifikasi NAIVE BAYES#\n",
    "from sklearn.model_selection import train_test_split\n",
    "from sklearn.naive_bayes import GaussianNB\n",
    "from sklearn.metrics import accuracy_score"
   ]
  },
  {
   "cell_type": "code",
   "execution_count": 58,
   "id": "8bb28712",
   "metadata": {},
   "outputs": [
    {
     "data": {
      "text/html": [
       "<div>\n",
       "<style scoped>\n",
       "    .dataframe tbody tr th:only-of-type {\n",
       "        vertical-align: middle;\n",
       "    }\n",
       "\n",
       "    .dataframe tbody tr th {\n",
       "        vertical-align: top;\n",
       "    }\n",
       "\n",
       "    .dataframe thead th {\n",
       "        text-align: right;\n",
       "    }\n",
       "</style>\n",
       "<table border=\"1\" class=\"dataframe\">\n",
       "  <thead>\n",
       "    <tr style=\"text-align: right;\">\n",
       "      <th></th>\n",
       "      <th>Name</th>\n",
       "      <th>Type</th>\n",
       "      <th>Level</th>\n",
       "      <th>Race</th>\n",
       "      <th>Attribute</th>\n",
       "      <th>ATK</th>\n",
       "      <th>DEF</th>\n",
       "    </tr>\n",
       "  </thead>\n",
       "  <tbody>\n",
       "    <tr>\n",
       "      <th>0</th>\n",
       "      <td>Limit Reverse</td>\n",
       "      <td>Trap Card</td>\n",
       "      <td>NaN</td>\n",
       "      <td>Continuous</td>\n",
       "      <td>NaN</td>\n",
       "      <td>NaN</td>\n",
       "      <td>NaN</td>\n",
       "    </tr>\n",
       "    <tr>\n",
       "      <th>1</th>\n",
       "      <td>The 13th Grave</td>\n",
       "      <td>Normal Monster</td>\n",
       "      <td>3.0</td>\n",
       "      <td>Zombie</td>\n",
       "      <td>DARK</td>\n",
       "      <td>1200.0</td>\n",
       "      <td>900.0</td>\n",
       "    </tr>\n",
       "    <tr>\n",
       "      <th>2</th>\n",
       "      <td>Gem-Enhancement</td>\n",
       "      <td>Trap Card</td>\n",
       "      <td>NaN</td>\n",
       "      <td>Normal</td>\n",
       "      <td>NaN</td>\n",
       "      <td>NaN</td>\n",
       "      <td>NaN</td>\n",
       "    </tr>\n",
       "    <tr>\n",
       "      <th>3</th>\n",
       "      <td>Magician's Circle</td>\n",
       "      <td>Trap Card</td>\n",
       "      <td>NaN</td>\n",
       "      <td>Normal</td>\n",
       "      <td>NaN</td>\n",
       "      <td>NaN</td>\n",
       "      <td>NaN</td>\n",
       "    </tr>\n",
       "    <tr>\n",
       "      <th>4</th>\n",
       "      <td>Castle of Dark Illusions</td>\n",
       "      <td>Flip Effect Monster</td>\n",
       "      <td>4.0</td>\n",
       "      <td>Fiend</td>\n",
       "      <td>DARK</td>\n",
       "      <td>920.0</td>\n",
       "      <td>1930.0</td>\n",
       "    </tr>\n",
       "    <tr>\n",
       "      <th>...</th>\n",
       "      <td>...</td>\n",
       "      <td>...</td>\n",
       "      <td>...</td>\n",
       "      <td>...</td>\n",
       "      <td>...</td>\n",
       "      <td>...</td>\n",
       "      <td>...</td>\n",
       "    </tr>\n",
       "    <tr>\n",
       "      <th>6529</th>\n",
       "      <td>Wattcancel</td>\n",
       "      <td>Trap Card</td>\n",
       "      <td>NaN</td>\n",
       "      <td>Counter</td>\n",
       "      <td>NaN</td>\n",
       "      <td>NaN</td>\n",
       "      <td>NaN</td>\n",
       "    </tr>\n",
       "    <tr>\n",
       "      <th>6530</th>\n",
       "      <td>Paleozoic Anomalocaris</td>\n",
       "      <td>XYZ Monster</td>\n",
       "      <td>2.0</td>\n",
       "      <td>Aqua</td>\n",
       "      <td>WATER</td>\n",
       "      <td>2400.0</td>\n",
       "      <td>0.0</td>\n",
       "    </tr>\n",
       "    <tr>\n",
       "      <th>6531</th>\n",
       "      <td>Dark Magician</td>\n",
       "      <td>Normal Monster</td>\n",
       "      <td>7.0</td>\n",
       "      <td>Spellcaster</td>\n",
       "      <td>DARK</td>\n",
       "      <td>2500.0</td>\n",
       "      <td>2100.0</td>\n",
       "    </tr>\n",
       "    <tr>\n",
       "      <th>6532</th>\n",
       "      <td>Odd-Eyes Pendulum Dragon</td>\n",
       "      <td>Pendulum Effect Monster</td>\n",
       "      <td>7.0</td>\n",
       "      <td>Dragon</td>\n",
       "      <td>DARK</td>\n",
       "      <td>2500.0</td>\n",
       "      <td>2000.0</td>\n",
       "    </tr>\n",
       "    <tr>\n",
       "      <th>6533</th>\n",
       "      <td>Stardust Dragon</td>\n",
       "      <td>Synchro Monster</td>\n",
       "      <td>8.0</td>\n",
       "      <td>Dragon</td>\n",
       "      <td>WIND</td>\n",
       "      <td>2500.0</td>\n",
       "      <td>2000.0</td>\n",
       "    </tr>\n",
       "  </tbody>\n",
       "</table>\n",
       "<p>6534 rows × 7 columns</p>\n",
       "</div>"
      ],
      "text/plain": [
       "                          Name                     Type  Level         Race  \\\n",
       "0                Limit Reverse                Trap Card    NaN   Continuous   \n",
       "1               The 13th Grave           Normal Monster    3.0       Zombie   \n",
       "2              Gem-Enhancement                Trap Card    NaN       Normal   \n",
       "3            Magician's Circle                Trap Card    NaN       Normal   \n",
       "4     Castle of Dark Illusions      Flip Effect Monster    4.0        Fiend   \n",
       "...                        ...                      ...    ...          ...   \n",
       "6529                Wattcancel                Trap Card    NaN      Counter   \n",
       "6530    Paleozoic Anomalocaris              XYZ Monster    2.0         Aqua   \n",
       "6531             Dark Magician           Normal Monster    7.0  Spellcaster   \n",
       "6532  Odd-Eyes Pendulum Dragon  Pendulum Effect Monster    7.0       Dragon   \n",
       "6533           Stardust Dragon          Synchro Monster    8.0       Dragon   \n",
       "\n",
       "     Attribute     ATK     DEF  \n",
       "0          NaN     NaN     NaN  \n",
       "1         DARK  1200.0   900.0  \n",
       "2          NaN     NaN     NaN  \n",
       "3          NaN     NaN     NaN  \n",
       "4         DARK   920.0  1930.0  \n",
       "...        ...     ...     ...  \n",
       "6529       NaN     NaN     NaN  \n",
       "6530     WATER  2400.0     0.0  \n",
       "6531      DARK  2500.0  2100.0  \n",
       "6532      DARK  2500.0  2000.0  \n",
       "6533      WIND  2500.0  2000.0  \n",
       "\n",
       "[6534 rows x 7 columns]"
      ]
     },
     "execution_count": 58,
     "metadata": {},
     "output_type": "execute_result"
    }
   ],
   "source": [
    "df = pd.read_csv(\"card_data.csv\")\n",
    "df"
   ]
  },
  {
   "cell_type": "code",
   "execution_count": 59,
   "id": "392cf945",
   "metadata": {},
   "outputs": [
    {
     "name": "stdout",
     "output_type": "stream",
     "text": [
      "<class 'pandas.core.frame.DataFrame'>\n",
      "RangeIndex: 6534 entries, 0 to 6533\n",
      "Data columns (total 7 columns):\n",
      " #   Column     Non-Null Count  Dtype  \n",
      "---  ------     --------------  -----  \n",
      " 0   Name       6534 non-null   object \n",
      " 1   Type       6534 non-null   object \n",
      " 2   Level      4275 non-null   float64\n",
      " 3   Race       6534 non-null   object \n",
      " 4   Attribute  4275 non-null   object \n",
      " 5   ATK        4275 non-null   float64\n",
      " 6   DEF        4275 non-null   float64\n",
      "dtypes: float64(3), object(4)\n",
      "memory usage: 357.5+ KB\n"
     ]
    }
   ],
   "source": [
    "#Info\n",
    "#df = df.fillna(0)\n",
    "df.info()"
   ]
  },
  {
   "cell_type": "code",
   "execution_count": 60,
   "id": "df18ed98",
   "metadata": {},
   "outputs": [
    {
     "data": {
      "text/html": [
       "<div>\n",
       "<style scoped>\n",
       "    .dataframe tbody tr th:only-of-type {\n",
       "        vertical-align: middle;\n",
       "    }\n",
       "\n",
       "    .dataframe tbody tr th {\n",
       "        vertical-align: top;\n",
       "    }\n",
       "\n",
       "    .dataframe thead th {\n",
       "        text-align: right;\n",
       "    }\n",
       "</style>\n",
       "<table border=\"1\" class=\"dataframe\">\n",
       "  <thead>\n",
       "    <tr style=\"text-align: right;\">\n",
       "      <th></th>\n",
       "      <th>Level</th>\n",
       "      <th>ATK</th>\n",
       "      <th>DEF</th>\n",
       "    </tr>\n",
       "  </thead>\n",
       "  <tbody>\n",
       "    <tr>\n",
       "      <th>count</th>\n",
       "      <td>4275.000000</td>\n",
       "      <td>4275.000000</td>\n",
       "      <td>4275.000000</td>\n",
       "    </tr>\n",
       "    <tr>\n",
       "      <th>mean</th>\n",
       "      <td>4.449591</td>\n",
       "      <td>1455.553216</td>\n",
       "      <td>1212.318129</td>\n",
       "    </tr>\n",
       "    <tr>\n",
       "      <th>std</th>\n",
       "      <td>2.185045</td>\n",
       "      <td>899.165365</td>\n",
       "      <td>802.966529</td>\n",
       "    </tr>\n",
       "    <tr>\n",
       "      <th>min</th>\n",
       "      <td>1.000000</td>\n",
       "      <td>0.000000</td>\n",
       "      <td>0.000000</td>\n",
       "    </tr>\n",
       "    <tr>\n",
       "      <th>25%</th>\n",
       "      <td>3.000000</td>\n",
       "      <td>800.000000</td>\n",
       "      <td>600.000000</td>\n",
       "    </tr>\n",
       "    <tr>\n",
       "      <th>50%</th>\n",
       "      <td>4.000000</td>\n",
       "      <td>1500.000000</td>\n",
       "      <td>1200.000000</td>\n",
       "    </tr>\n",
       "    <tr>\n",
       "      <th>75%</th>\n",
       "      <td>6.000000</td>\n",
       "      <td>2100.000000</td>\n",
       "      <td>1800.000000</td>\n",
       "    </tr>\n",
       "    <tr>\n",
       "      <th>max</th>\n",
       "      <td>12.000000</td>\n",
       "      <td>5000.000000</td>\n",
       "      <td>5000.000000</td>\n",
       "    </tr>\n",
       "  </tbody>\n",
       "</table>\n",
       "</div>"
      ],
      "text/plain": [
       "             Level          ATK          DEF\n",
       "count  4275.000000  4275.000000  4275.000000\n",
       "mean      4.449591  1455.553216  1212.318129\n",
       "std       2.185045   899.165365   802.966529\n",
       "min       1.000000     0.000000     0.000000\n",
       "25%       3.000000   800.000000   600.000000\n",
       "50%       4.000000  1500.000000  1200.000000\n",
       "75%       6.000000  2100.000000  1800.000000\n",
       "max      12.000000  5000.000000  5000.000000"
      ]
     },
     "execution_count": 60,
     "metadata": {},
     "output_type": "execute_result"
    }
   ],
   "source": [
    "df.describe()"
   ]
  },
  {
   "cell_type": "code",
   "execution_count": 61,
   "id": "21546e24",
   "metadata": {},
   "outputs": [
    {
     "data": {
      "text/plain": [
       "Name            0\n",
       "Type            0\n",
       "Level        2259\n",
       "Race            0\n",
       "Attribute    2259\n",
       "ATK          2259\n",
       "DEF          2259\n",
       "dtype: int64"
      ]
     },
     "execution_count": 61,
     "metadata": {},
     "output_type": "execute_result"
    }
   ],
   "source": [
    "df.isna().sum()"
   ]
  },
  {
   "cell_type": "code",
   "execution_count": 62,
   "id": "2a60de93",
   "metadata": {},
   "outputs": [
    {
     "name": "stdout",
     "output_type": "stream",
     "text": [
      "panjang dataset 6534 Row\n"
     ]
    }
   ],
   "source": [
    "print(f'panjang dataset {len(df)} Row')"
   ]
  },
  {
   "cell_type": "markdown",
   "id": "160fe2e0",
   "metadata": {},
   "source": [
    "## Data Cleaning -------------------------------------------------------------------------\n",
    "Data yang kita gunakan bisa jadi sangat berantakan. Ada informasi yang tak\n",
    "lengkap, ada pula format yang berbeda-beda.Semua ini tentu membuat data itu sulit\n",
    "diolah."
   ]
  },
  {
   "cell_type": "code",
   "execution_count": 63,
   "id": "7dedd19a",
   "metadata": {},
   "outputs": [],
   "source": [
    "dataset_mn = df.copy()\n",
    "dataset_md = df.copy()\n",
    "dataset_ms = df.copy()"
   ]
  },
  {
   "cell_type": "code",
   "execution_count": 64,
   "id": "05a1670c",
   "metadata": {},
   "outputs": [],
   "source": [
    "imputer_mean = SimpleImputer(strategy='mean')\n",
    "imputer_median = SimpleImputer(strategy='median')\n",
    "imputer_modus = SimpleImputer(strategy='most_frequent')"
   ]
  },
  {
   "cell_type": "markdown",
   "id": "eacc6b6d",
   "metadata": {},
   "source": [
    "### Mean"
   ]
  },
  {
   "cell_type": "code",
   "execution_count": 65,
   "id": "253dc3b5",
   "metadata": {},
   "outputs": [
    {
     "data": {
      "text/plain": [
       "Name            0\n",
       "Type            0\n",
       "Level        2259\n",
       "Race            0\n",
       "Attribute    2259\n",
       "ATK             0\n",
       "DEF          2259\n",
       "dtype: int64"
      ]
     },
     "execution_count": 65,
     "metadata": {},
     "output_type": "execute_result"
    }
   ],
   "source": [
    "dataset_mn['ATK'] = imputer_mean.fit_transform(dataset_mn[['ATK']])\n",
    "dataset_mn.isna().sum()"
   ]
  },
  {
   "cell_type": "code",
   "execution_count": 66,
   "id": "4058e0ec",
   "metadata": {},
   "outputs": [
    {
     "data": {
      "text/plain": [
       "Name         0\n",
       "Type         0\n",
       "Level        0\n",
       "Race         0\n",
       "Attribute    0\n",
       "ATK          0\n",
       "DEF          0\n",
       "dtype: int64"
      ]
     },
     "execution_count": 66,
     "metadata": {},
     "output_type": "execute_result"
    }
   ],
   "source": [
    "dataset_mn.dropna(inplace=True)\n",
    "dataset_mn.isna().sum()"
   ]
  },
  {
   "cell_type": "code",
   "execution_count": 67,
   "id": "bd2e110a",
   "metadata": {},
   "outputs": [
    {
     "data": {
      "text/plain": [
       "Name         0\n",
       "Type         0\n",
       "Level        0\n",
       "Race         0\n",
       "Attribute    0\n",
       "ATK          0\n",
       "DEF          0\n",
       "dtype: int64"
      ]
     },
     "execution_count": 67,
     "metadata": {},
     "output_type": "execute_result"
    }
   ],
   "source": [
    "dataset_mn['ATK'] = imputer_mean.fit_transform(dataset_mn[['ATK']])\n",
    "dataset_mn.isna().sum()"
   ]
  },
  {
   "cell_type": "markdown",
   "id": "7c4b8c0b",
   "metadata": {},
   "source": [
    "### Median"
   ]
  },
  {
   "cell_type": "code",
   "execution_count": 68,
   "id": "c9551bce",
   "metadata": {
    "scrolled": true
   },
   "outputs": [
    {
     "data": {
      "text/plain": [
       "Name            0\n",
       "Type            0\n",
       "Level        2259\n",
       "Race            0\n",
       "Attribute    2259\n",
       "ATK          2259\n",
       "DEF             0\n",
       "dtype: int64"
      ]
     },
     "execution_count": 68,
     "metadata": {},
     "output_type": "execute_result"
    }
   ],
   "source": [
    "dataset_md['DEF'] = imputer_median.fit_transform(dataset_md[['DEF']])\n",
    "dataset_md.isna().sum()"
   ]
  },
  {
   "cell_type": "code",
   "execution_count": 69,
   "id": "6607c820",
   "metadata": {},
   "outputs": [
    {
     "data": {
      "text/plain": [
       "Name         0\n",
       "Type         0\n",
       "Level        0\n",
       "Race         0\n",
       "Attribute    0\n",
       "ATK          0\n",
       "DEF          0\n",
       "dtype: int64"
      ]
     },
     "execution_count": 69,
     "metadata": {},
     "output_type": "execute_result"
    }
   ],
   "source": [
    "dataset_md.dropna(inplace=True)\n",
    "dataset_md.isna().sum()"
   ]
  },
  {
   "cell_type": "markdown",
   "id": "114f4397",
   "metadata": {},
   "source": [
    "### Modus"
   ]
  },
  {
   "cell_type": "code",
   "execution_count": 70,
   "id": "eba954c3",
   "metadata": {},
   "outputs": [
    {
     "data": {
      "text/plain": [
       "Name         0\n",
       "Type         0\n",
       "Level        0\n",
       "Race         0\n",
       "Attribute    0\n",
       "ATK          0\n",
       "DEF          0\n",
       "dtype: int64"
      ]
     },
     "execution_count": 70,
     "metadata": {},
     "output_type": "execute_result"
    }
   ],
   "source": [
    "dataset_md['Level'] = imputer_median.fit_transform(dataset_md[['Level']])\n",
    "dataset_md.isna().sum()"
   ]
  },
  {
   "cell_type": "code",
   "execution_count": 71,
   "id": "f5fff17a",
   "metadata": {},
   "outputs": [
    {
     "data": {
      "text/plain": [
       "Name         0\n",
       "Type         0\n",
       "Level        0\n",
       "Race         0\n",
       "Attribute    0\n",
       "ATK          0\n",
       "DEF          0\n",
       "dtype: int64"
      ]
     },
     "execution_count": 71,
     "metadata": {},
     "output_type": "execute_result"
    }
   ],
   "source": [
    "dataset_md.dropna(inplace=True)\n",
    "dataset_md.isna().sum()"
   ]
  },
  {
   "cell_type": "code",
   "execution_count": 72,
   "id": "0c2813fc",
   "metadata": {},
   "outputs": [
    {
     "data": {
      "text/plain": [
       "4275"
      ]
     },
     "execution_count": 72,
     "metadata": {},
     "output_type": "execute_result"
    }
   ],
   "source": [
    "len(dataset_mn)"
   ]
  },
  {
   "cell_type": "markdown",
   "id": "ef25917a",
   "metadata": {},
   "source": [
    "### Data Duplikat "
   ]
  },
  {
   "cell_type": "code",
   "execution_count": 73,
   "id": "f9bb1d89",
   "metadata": {},
   "outputs": [
    {
     "data": {
      "text/plain": [
       "85"
      ]
     },
     "execution_count": 73,
     "metadata": {},
     "output_type": "execute_result"
    }
   ],
   "source": [
    "dataset_duplicate = df.copy()\n",
    "dataset_duplicate.duplicated().sum()"
   ]
  },
  {
   "cell_type": "code",
   "execution_count": 74,
   "id": "f20d2d08",
   "metadata": {},
   "outputs": [
    {
     "data": {
      "text/plain": [
       "0"
      ]
     },
     "execution_count": 74,
     "metadata": {},
     "output_type": "execute_result"
    }
   ],
   "source": [
    "dataset_duplicate.drop_duplicates(inplace=True)\n",
    "dataset_duplicate.duplicated().sum()"
   ]
  },
  {
   "cell_type": "markdown",
   "id": "c5188bcc",
   "metadata": {},
   "source": [
    "## Classification, KNN (K-NEAREST NEIGHBOUR)\n",
    "K-Nearest Neighbour atau algoritma KNN menggunakan algoritma non-parametrik yang mengelompokkan poin data berdasarkan kedekatan dan juga asosiasi mereka dengan data lain. Algoritma KNN mengasumsikan bahwa titik data yang serupa akan selalu bisa\n",
    "ditemukan di sekitarnya."
   ]
  },
  {
   "cell_type": "code",
   "execution_count": 75,
   "id": "44b6eb30",
   "metadata": {},
   "outputs": [
    {
     "data": {
      "text/html": [
       "<div>\n",
       "<style scoped>\n",
       "    .dataframe tbody tr th:only-of-type {\n",
       "        vertical-align: middle;\n",
       "    }\n",
       "\n",
       "    .dataframe tbody tr th {\n",
       "        vertical-align: top;\n",
       "    }\n",
       "\n",
       "    .dataframe thead th {\n",
       "        text-align: right;\n",
       "    }\n",
       "</style>\n",
       "<table border=\"1\" class=\"dataframe\">\n",
       "  <thead>\n",
       "    <tr style=\"text-align: right;\">\n",
       "      <th></th>\n",
       "      <th>Name</th>\n",
       "      <th>Type</th>\n",
       "      <th>Level</th>\n",
       "      <th>Race</th>\n",
       "      <th>Attribute</th>\n",
       "      <th>ATK</th>\n",
       "      <th>DEF</th>\n",
       "    </tr>\n",
       "  </thead>\n",
       "  <tbody>\n",
       "    <tr>\n",
       "      <th>1</th>\n",
       "      <td>The 13th Grave</td>\n",
       "      <td>Normal Monster</td>\n",
       "      <td>3.0</td>\n",
       "      <td>Zombie</td>\n",
       "      <td>DARK</td>\n",
       "      <td>1200.0</td>\n",
       "      <td>900.0</td>\n",
       "    </tr>\n",
       "    <tr>\n",
       "      <th>4</th>\n",
       "      <td>Castle of Dark Illusions</td>\n",
       "      <td>Flip Effect Monster</td>\n",
       "      <td>4.0</td>\n",
       "      <td>Fiend</td>\n",
       "      <td>DARK</td>\n",
       "      <td>920.0</td>\n",
       "      <td>1930.0</td>\n",
       "    </tr>\n",
       "    <tr>\n",
       "      <th>6</th>\n",
       "      <td>Lava Golem</td>\n",
       "      <td>Effect Monster</td>\n",
       "      <td>8.0</td>\n",
       "      <td>Fiend</td>\n",
       "      <td>FIRE</td>\n",
       "      <td>3000.0</td>\n",
       "      <td>2500.0</td>\n",
       "    </tr>\n",
       "    <tr>\n",
       "      <th>8</th>\n",
       "      <td>Seismic Crasher</td>\n",
       "      <td>Effect Monster</td>\n",
       "      <td>3.0</td>\n",
       "      <td>Rock</td>\n",
       "      <td>EARTH</td>\n",
       "      <td>1400.0</td>\n",
       "      <td>300.0</td>\n",
       "    </tr>\n",
       "    <tr>\n",
       "      <th>9</th>\n",
       "      <td>Laval Lancelord</td>\n",
       "      <td>Effect Monster</td>\n",
       "      <td>6.0</td>\n",
       "      <td>Warrior</td>\n",
       "      <td>FIRE</td>\n",
       "      <td>2100.0</td>\n",
       "      <td>200.0</td>\n",
       "    </tr>\n",
       "  </tbody>\n",
       "</table>\n",
       "</div>"
      ],
      "text/plain": [
       "                       Name                 Type  Level     Race Attribute  \\\n",
       "1            The 13th Grave       Normal Monster    3.0   Zombie      DARK   \n",
       "4  Castle of Dark Illusions  Flip Effect Monster    4.0    Fiend      DARK   \n",
       "6                Lava Golem       Effect Monster    8.0    Fiend      FIRE   \n",
       "8           Seismic Crasher       Effect Monster    3.0     Rock     EARTH   \n",
       "9           Laval Lancelord       Effect Monster    6.0  Warrior      FIRE   \n",
       "\n",
       "      ATK     DEF  \n",
       "1  1200.0   900.0  \n",
       "4   920.0  1930.0  \n",
       "6  3000.0  2500.0  \n",
       "8  1400.0   300.0  \n",
       "9  2100.0   200.0  "
      ]
     },
     "execution_count": 75,
     "metadata": {},
     "output_type": "execute_result"
    }
   ],
   "source": [
    "dataset_mn.head()"
   ]
  },
  {
   "cell_type": "code",
   "execution_count": 76,
   "id": "d03b5c15",
   "metadata": {},
   "outputs": [
    {
     "name": "stdout",
     "output_type": "stream",
     "text": [
      "<class 'pandas.core.frame.DataFrame'>\n",
      "Int64Index: 4275 entries, 1 to 6533\n",
      "Data columns (total 7 columns):\n",
      " #   Column     Non-Null Count  Dtype  \n",
      "---  ------     --------------  -----  \n",
      " 0   Name       4275 non-null   object \n",
      " 1   Type       4275 non-null   object \n",
      " 2   Level      4275 non-null   float64\n",
      " 3   Race       4275 non-null   object \n",
      " 4   Attribute  4275 non-null   object \n",
      " 5   ATK        4275 non-null   float64\n",
      " 6   DEF        4275 non-null   float64\n",
      "dtypes: float64(3), object(4)\n",
      "memory usage: 267.2+ KB\n"
     ]
    }
   ],
   "source": [
    "dataset_mn.info()"
   ]
  },
  {
   "cell_type": "code",
   "execution_count": 119,
   "id": "801125c0",
   "metadata": {},
   "outputs": [],
   "source": [
    "x = dataset_mn[['Level','DEF','ATK']]\n",
    "y = dataset_mn['Attribute']\n",
    "x_train, x_test, y_train, y_test = train_test_split(x, y, random_state=0, test_size=.2)"
   ]
  },
  {
   "cell_type": "code",
   "execution_count": 120,
   "id": "e0d61a94",
   "metadata": {},
   "outputs": [],
   "source": [
    "classifier = KNeighborsClassifier(n_neighbors = 5)"
   ]
  },
  {
   "cell_type": "code",
   "execution_count": 121,
   "id": "861ce0fe",
   "metadata": {},
   "outputs": [
    {
     "data": {
      "text/html": [
       "<style>#sk-container-id-3 {color: black;background-color: white;}#sk-container-id-3 pre{padding: 0;}#sk-container-id-3 div.sk-toggleable {background-color: white;}#sk-container-id-3 label.sk-toggleable__label {cursor: pointer;display: block;width: 100%;margin-bottom: 0;padding: 0.3em;box-sizing: border-box;text-align: center;}#sk-container-id-3 label.sk-toggleable__label-arrow:before {content: \"▸\";float: left;margin-right: 0.25em;color: #696969;}#sk-container-id-3 label.sk-toggleable__label-arrow:hover:before {color: black;}#sk-container-id-3 div.sk-estimator:hover label.sk-toggleable__label-arrow:before {color: black;}#sk-container-id-3 div.sk-toggleable__content {max-height: 0;max-width: 0;overflow: hidden;text-align: left;background-color: #f0f8ff;}#sk-container-id-3 div.sk-toggleable__content pre {margin: 0.2em;color: black;border-radius: 0.25em;background-color: #f0f8ff;}#sk-container-id-3 input.sk-toggleable__control:checked~div.sk-toggleable__content {max-height: 200px;max-width: 100%;overflow: auto;}#sk-container-id-3 input.sk-toggleable__control:checked~label.sk-toggleable__label-arrow:before {content: \"▾\";}#sk-container-id-3 div.sk-estimator input.sk-toggleable__control:checked~label.sk-toggleable__label {background-color: #d4ebff;}#sk-container-id-3 div.sk-label input.sk-toggleable__control:checked~label.sk-toggleable__label {background-color: #d4ebff;}#sk-container-id-3 input.sk-hidden--visually {border: 0;clip: rect(1px 1px 1px 1px);clip: rect(1px, 1px, 1px, 1px);height: 1px;margin: -1px;overflow: hidden;padding: 0;position: absolute;width: 1px;}#sk-container-id-3 div.sk-estimator {font-family: monospace;background-color: #f0f8ff;border: 1px dotted black;border-radius: 0.25em;box-sizing: border-box;margin-bottom: 0.5em;}#sk-container-id-3 div.sk-estimator:hover {background-color: #d4ebff;}#sk-container-id-3 div.sk-parallel-item::after {content: \"\";width: 100%;border-bottom: 1px solid gray;flex-grow: 1;}#sk-container-id-3 div.sk-label:hover label.sk-toggleable__label {background-color: #d4ebff;}#sk-container-id-3 div.sk-serial::before {content: \"\";position: absolute;border-left: 1px solid gray;box-sizing: border-box;top: 0;bottom: 0;left: 50%;z-index: 0;}#sk-container-id-3 div.sk-serial {display: flex;flex-direction: column;align-items: center;background-color: white;padding-right: 0.2em;padding-left: 0.2em;position: relative;}#sk-container-id-3 div.sk-item {position: relative;z-index: 1;}#sk-container-id-3 div.sk-parallel {display: flex;align-items: stretch;justify-content: center;background-color: white;position: relative;}#sk-container-id-3 div.sk-item::before, #sk-container-id-3 div.sk-parallel-item::before {content: \"\";position: absolute;border-left: 1px solid gray;box-sizing: border-box;top: 0;bottom: 0;left: 50%;z-index: -1;}#sk-container-id-3 div.sk-parallel-item {display: flex;flex-direction: column;z-index: 1;position: relative;background-color: white;}#sk-container-id-3 div.sk-parallel-item:first-child::after {align-self: flex-end;width: 50%;}#sk-container-id-3 div.sk-parallel-item:last-child::after {align-self: flex-start;width: 50%;}#sk-container-id-3 div.sk-parallel-item:only-child::after {width: 0;}#sk-container-id-3 div.sk-dashed-wrapped {border: 1px dashed gray;margin: 0 0.4em 0.5em 0.4em;box-sizing: border-box;padding-bottom: 0.4em;background-color: white;}#sk-container-id-3 div.sk-label label {font-family: monospace;font-weight: bold;display: inline-block;line-height: 1.2em;}#sk-container-id-3 div.sk-label-container {text-align: center;}#sk-container-id-3 div.sk-container {/* jupyter's `normalize.less` sets `[hidden] { display: none; }` but bootstrap.min.css set `[hidden] { display: none !important; }` so we also need the `!important` here to be able to override the default hidden behavior on the sphinx rendered scikit-learn.org. See: https://github.com/scikit-learn/scikit-learn/issues/21755 */display: inline-block !important;position: relative;}#sk-container-id-3 div.sk-text-repr-fallback {display: none;}</style><div id=\"sk-container-id-3\" class=\"sk-top-container\"><div class=\"sk-text-repr-fallback\"><pre>KNeighborsClassifier()</pre><b>In a Jupyter environment, please rerun this cell to show the HTML representation or trust the notebook. <br />On GitHub, the HTML representation is unable to render, please try loading this page with nbviewer.org.</b></div><div class=\"sk-container\" hidden><div class=\"sk-item\"><div class=\"sk-estimator sk-toggleable\"><input class=\"sk-toggleable__control sk-hidden--visually\" id=\"sk-estimator-id-3\" type=\"checkbox\" checked><label for=\"sk-estimator-id-3\" class=\"sk-toggleable__label sk-toggleable__label-arrow\">KNeighborsClassifier</label><div class=\"sk-toggleable__content\"><pre>KNeighborsClassifier()</pre></div></div></div></div></div>"
      ],
      "text/plain": [
       "KNeighborsClassifier()"
      ]
     },
     "execution_count": 121,
     "metadata": {},
     "output_type": "execute_result"
    }
   ],
   "source": [
    "classifier.fit(x_train,y_train)"
   ]
  },
  {
   "cell_type": "code",
   "execution_count": 122,
   "id": "27396e99",
   "metadata": {},
   "outputs": [],
   "source": [
    "predicted_value = classifier.predict(x_test)\n",
    "accuracy = accuracy_score(y_test, predicted_value)"
   ]
  },
  {
   "cell_type": "code",
   "execution_count": 123,
   "id": "21393218",
   "metadata": {},
   "outputs": [
    {
     "name": "stdout",
     "output_type": "stream",
     "text": [
      "hasil prediksi: ['EARTH' 'LIGHT' 'DARK' 'EARTH' 'DARK' 'EARTH' 'DARK' 'EARTH' 'EARTH'\n",
      " 'EARTH' 'DARK' 'LIGHT' 'EARTH' 'EARTH' 'WATER' 'WIND' 'DARK' 'WATER'\n",
      " 'LIGHT' 'DARK' 'EARTH' 'DARK' 'DARK' 'EARTH' 'LIGHT' 'LIGHT' 'EARTH'\n",
      " 'DARK' 'LIGHT' 'DARK' 'EARTH' 'EARTH' 'EARTH' 'DARK' 'EARTH' 'EARTH'\n",
      " 'FIRE' 'EARTH' 'DARK' 'EARTH' 'DARK' 'DARK' 'EARTH' 'WATER' 'DARK'\n",
      " 'LIGHT' 'DARK' 'DARK' 'EARTH' 'DARK' 'EARTH' 'DARK' 'LIGHT' 'LIGHT'\n",
      " 'WATER' 'EARTH' 'EARTH' 'DARK' 'DARK' 'LIGHT' 'WATER' 'EARTH' 'EARTH'\n",
      " 'EARTH' 'EARTH' 'DARK' 'LIGHT' 'WIND' 'EARTH' 'LIGHT' 'EARTH' 'DARK'\n",
      " 'LIGHT' 'EARTH' 'DARK' 'DARK' 'WATER' 'DARK' 'LIGHT' 'EARTH' 'EARTH'\n",
      " 'EARTH' 'LIGHT' 'DARK' 'LIGHT' 'LIGHT' 'DARK' 'DARK' 'EARTH' 'WATER'\n",
      " 'WATER' 'EARTH' 'EARTH' 'WIND' 'DARK' 'EARTH' 'FIRE' 'WATER' 'DARK'\n",
      " 'DARK' 'WATER' 'LIGHT' 'LIGHT' 'DARK' 'EARTH' 'DARK' 'WATER' 'WATER'\n",
      " 'FIRE' 'DARK' 'DARK' 'DARK' 'DARK' 'EARTH' 'DARK' 'EARTH' 'EARTH' 'DARK'\n",
      " 'DARK' 'WIND' 'DARK' 'DARK' 'LIGHT' 'EARTH' 'DARK' 'EARTH' 'DARK' 'DARK'\n",
      " 'LIGHT' 'EARTH' 'EARTH' 'LIGHT' 'EARTH' 'LIGHT' 'DARK' 'DARK' 'DARK'\n",
      " 'DARK' 'DARK' 'EARTH' 'DARK' 'DARK' 'EARTH' 'DARK' 'DARK' 'FIRE' 'FIRE'\n",
      " 'DARK' 'DARK' 'EARTH' 'LIGHT' 'EARTH' 'WIND' 'EARTH' 'EARTH' 'EARTH'\n",
      " 'EARTH' 'DARK' 'WIND' 'LIGHT' 'DARK' 'DARK' 'FIRE' 'EARTH' 'EARTH' 'DARK'\n",
      " 'EARTH' 'DARK' 'DARK' 'DARK' 'DARK' 'FIRE' 'DARK' 'LIGHT' 'EARTH' 'DARK'\n",
      " 'LIGHT' 'LIGHT' 'EARTH' 'EARTH' 'DARK' 'LIGHT' 'DARK' 'EARTH' 'DARK'\n",
      " 'WATER' 'DARK' 'EARTH' 'EARTH' 'EARTH' 'DARK' 'WATER' 'WIND' 'DARK'\n",
      " 'DARK' 'EARTH' 'DARK' 'DARK' 'EARTH' 'DARK' 'LIGHT' 'FIRE' 'DARK' 'EARTH'\n",
      " 'LIGHT' 'DARK' 'LIGHT' 'LIGHT' 'EARTH' 'LIGHT' 'WATER' 'DARK' 'WATER'\n",
      " 'LIGHT' 'WATER' 'DARK' 'DARK' 'EARTH' 'DARK' 'EARTH' 'DARK' 'EARTH'\n",
      " 'DARK' 'EARTH' 'DARK' 'LIGHT' 'WIND' 'DARK' 'EARTH' 'EARTH' 'DARK' 'DARK'\n",
      " 'DARK' 'WIND' 'EARTH' 'EARTH' 'LIGHT' 'DARK' 'DARK' 'DARK' 'DARK' 'EARTH'\n",
      " 'EARTH' 'DARK' 'EARTH' 'EARTH' 'DARK' 'LIGHT' 'LIGHT' 'LIGHT' 'WIND'\n",
      " 'DARK' 'DARK' 'LIGHT' 'EARTH' 'DARK' 'LIGHT' 'LIGHT' 'EARTH' 'DARK'\n",
      " 'DARK' 'DARK' 'DARK' 'LIGHT' 'EARTH' 'EARTH' 'EARTH' 'EARTH' 'FIRE'\n",
      " 'DARK' 'LIGHT' 'DARK' 'DARK' 'EARTH' 'LIGHT' 'LIGHT' 'DARK' 'EARTH'\n",
      " 'EARTH' 'FIRE' 'EARTH' 'WATER' 'DARK' 'EARTH' 'LIGHT' 'DARK' 'DARK'\n",
      " 'WATER' 'EARTH' 'DARK' 'EARTH' 'EARTH' 'EARTH' 'DARK' 'DARK' 'WATER'\n",
      " 'EARTH' 'EARTH' 'DARK' 'EARTH' 'DARK' 'EARTH' 'LIGHT' 'DARK' 'LIGHT'\n",
      " 'EARTH' 'LIGHT' 'WATER' 'DARK' 'DARK' 'LIGHT' 'LIGHT' 'DARK' 'DARK'\n",
      " 'DARK' 'EARTH' 'LIGHT' 'EARTH' 'WIND' 'LIGHT' 'WIND' 'LIGHT' 'DARK'\n",
      " 'DARK' 'DARK' 'DARK' 'LIGHT' 'EARTH' 'EARTH' 'DARK' 'EARTH' 'LIGHT'\n",
      " 'DARK' 'DARK' 'DARK' 'FIRE' 'LIGHT' 'WIND' 'WATER' 'DARK' 'EARTH' 'EARTH'\n",
      " 'EARTH' 'FIRE' 'DARK' 'EARTH' 'LIGHT' 'FIRE' 'LIGHT' 'DARK' 'EARTH'\n",
      " 'WIND' 'WIND' 'DARK' 'EARTH' 'LIGHT' 'DARK' 'DARK' 'DARK' 'EARTH' 'LIGHT'\n",
      " 'DARK' 'DARK' 'DARK' 'WATER' 'DARK' 'EARTH' 'EARTH' 'EARTH' 'DARK'\n",
      " 'LIGHT' 'DARK' 'EARTH' 'WATER' 'DARK' 'EARTH' 'FIRE' 'EARTH' 'EARTH'\n",
      " 'DARK' 'EARTH' 'DARK' 'LIGHT' 'DARK' 'FIRE' 'EARTH' 'LIGHT' 'WATER'\n",
      " 'DARK' 'EARTH' 'EARTH' 'EARTH' 'LIGHT' 'EARTH' 'EARTH' 'LIGHT' 'WIND'\n",
      " 'DARK' 'EARTH' 'DARK' 'DARK' 'DARK' 'DARK' 'EARTH' 'DARK' 'LIGHT' 'DARK'\n",
      " 'DARK' 'WATER' 'WIND' 'DARK' 'DARK' 'DARK' 'EARTH' 'LIGHT' 'DARK' 'DARK'\n",
      " 'DARK' 'DARK' 'EARTH' 'EARTH' 'DARK' 'EARTH' 'WIND' 'LIGHT' 'LIGHT'\n",
      " 'DARK' 'DARK' 'EARTH' 'EARTH' 'DARK' 'DARK' 'DARK' 'DARK' 'EARTH' 'DARK'\n",
      " 'DARK' 'EARTH' 'LIGHT' 'EARTH' 'EARTH' 'LIGHT' 'DARK' 'DARK' 'EARTH'\n",
      " 'EARTH' 'DARK' 'DARK' 'EARTH' 'DARK' 'DARK' 'FIRE' 'DARK' 'DARK' 'DARK'\n",
      " 'LIGHT' 'DARK' 'EARTH' 'LIGHT' 'EARTH' 'DARK' 'LIGHT' 'LIGHT' 'DARK'\n",
      " 'WIND' 'EARTH' 'DARK' 'EARTH' 'EARTH' 'EARTH' 'LIGHT' 'DARK' 'EARTH'\n",
      " 'DARK' 'EARTH' 'EARTH' 'DARK' 'LIGHT' 'EARTH' 'EARTH' 'DARK' 'DARK'\n",
      " 'DARK' 'DARK' 'DARK' 'DARK' 'EARTH' 'DARK' 'LIGHT' 'LIGHT' 'WIND' 'EARTH'\n",
      " 'EARTH' 'DARK' 'EARTH' 'EARTH' 'WIND' 'LIGHT' 'EARTH' 'EARTH' 'DARK'\n",
      " 'LIGHT' 'WATER' 'LIGHT' 'LIGHT' 'DARK' 'LIGHT' 'EARTH' 'EARTH' 'WATER'\n",
      " 'FIRE' 'DARK' 'DARK' 'FIRE' 'WIND' 'DARK' 'EARTH' 'EARTH' 'EARTH' 'EARTH'\n",
      " 'EARTH' 'EARTH' 'EARTH' 'EARTH' 'DARK' 'DARK' 'DARK' 'DARK' 'LIGHT'\n",
      " 'DARK' 'DARK' 'LIGHT' 'DARK' 'EARTH' 'DARK' 'EARTH' 'DARK' 'EARTH'\n",
      " 'WATER' 'LIGHT' 'DARK' 'DARK' 'LIGHT' 'DARK' 'EARTH' 'DARK' 'EARTH'\n",
      " 'DARK' 'DARK' 'DARK' 'DARK' 'DARK' 'LIGHT' 'EARTH' 'DARK' 'FIRE' 'DARK'\n",
      " 'EARTH' 'LIGHT' 'DARK' 'FIRE' 'DARK' 'DARK' 'FIRE' 'DARK' 'DARK' 'DARK'\n",
      " 'EARTH' 'LIGHT' 'WATER' 'DARK' 'DARK' 'DARK' 'EARTH' 'FIRE' 'EARTH'\n",
      " 'EARTH' 'DARK' 'DARK' 'DARK' 'EARTH' 'FIRE' 'DARK' 'DARK' 'DARK' 'WIND'\n",
      " 'DARK' 'EARTH' 'DARK' 'EARTH' 'EARTH' 'EARTH' 'EARTH' 'FIRE' 'DARK'\n",
      " 'DARK' 'DARK' 'LIGHT' 'DARK' 'DARK' 'EARTH' 'DARK' 'DARK' 'EARTH' 'LIGHT'\n",
      " 'LIGHT' 'DARK' 'DARK' 'EARTH' 'LIGHT' 'DARK' 'LIGHT' 'DARK' 'LIGHT'\n",
      " 'EARTH' 'LIGHT' 'DARK' 'WATER' 'DARK' 'LIGHT' 'LIGHT' 'DARK' 'WIND'\n",
      " 'EARTH' 'WATER' 'LIGHT' 'DARK' 'EARTH' 'LIGHT' 'LIGHT' 'LIGHT' 'DARK'\n",
      " 'LIGHT' 'LIGHT' 'EARTH' 'DARK' 'EARTH' 'FIRE' 'LIGHT' 'EARTH' 'EARTH'\n",
      " 'EARTH' 'EARTH' 'LIGHT' 'DARK' 'EARTH' 'EARTH' 'WIND' 'DARK' 'DARK'\n",
      " 'FIRE' 'WIND' 'DARK' 'DARK' 'FIRE' 'DARK' 'WATER' 'WATER' 'EARTH' 'EARTH'\n",
      " 'LIGHT' 'LIGHT' 'EARTH' 'WIND' 'LIGHT' 'LIGHT' 'EARTH' 'DARK' 'EARTH'\n",
      " 'WATER' 'LIGHT' 'DARK' 'DARK' 'EARTH' 'WATER' 'DARK' 'EARTH' 'LIGHT'\n",
      " 'LIGHT' 'DARK' 'WATER' 'EARTH' 'DARK' 'LIGHT' 'DARK' 'DARK' 'DARK'\n",
      " 'LIGHT' 'WIND' 'EARTH' 'DARK' 'DARK' 'EARTH' 'DARK' 'DARK' 'EARTH' 'DARK'\n",
      " 'EARTH' 'LIGHT' 'LIGHT' 'WIND' 'DARK' 'DARK' 'WATER' 'EARTH' 'DARK'\n",
      " 'LIGHT' 'DARK' 'FIRE' 'DARK' 'WATER' 'EARTH' 'EARTH' 'EARTH' 'LIGHT'\n",
      " 'WATER' 'WIND' 'DARK' 'EARTH' 'EARTH' 'WATER' 'DARK' 'LIGHT' 'DARK'\n",
      " 'EARTH' 'EARTH' 'DARK' 'LIGHT' 'DARK' 'DARK' 'DARK' 'DARK' 'LIGHT' 'DARK'\n",
      " 'DARK' 'DARK' 'LIGHT' 'EARTH' 'DARK' 'DARK' 'EARTH' 'WATER' 'WIND' 'DARK'\n",
      " 'EARTH' 'LIGHT' 'DARK' 'DARK' 'DARK' 'LIGHT' 'DARK' 'EARTH' 'DARK' 'FIRE'\n",
      " 'DARK' 'EARTH' 'DARK' 'DARK' 'FIRE' 'DARK' 'FIRE' 'LIGHT' 'FIRE' 'LIGHT'\n",
      " 'LIGHT' 'FIRE' 'EARTH' 'LIGHT' 'LIGHT' 'DARK' 'DARK' 'DARK' 'DARK'\n",
      " 'EARTH' 'EARTH' 'LIGHT' 'LIGHT' 'EARTH' 'DARK' 'DARK' 'EARTH' 'EARTH'\n",
      " 'LIGHT' 'DARK' 'DARK' 'DARK' 'DARK' 'EARTH' 'DARK' 'DARK' 'DARK' 'WATER'\n",
      " 'EARTH' 'WATER' 'EARTH' 'LIGHT' 'LIGHT' 'WIND' 'EARTH' 'LIGHT' 'DARK'\n",
      " 'EARTH' 'LIGHT' 'DARK' 'DARK' 'DARK' 'EARTH' 'DARK' 'EARTH' 'WATER'\n",
      " 'LIGHT' 'EARTH' 'EARTH' 'WIND' 'WIND' 'EARTH' 'WATER' 'DARK' 'EARTH'\n",
      " 'EARTH' 'WIND' 'WATER' 'DARK' 'EARTH' 'DARK' 'WATER' 'LIGHT' 'DARK'\n",
      " 'EARTH' 'DARK' 'LIGHT' 'DARK' 'EARTH' 'DARK' 'DARK' 'DARK' 'DARK' 'EARTH'\n",
      " 'LIGHT' 'EARTH' 'DARK' 'DARK' 'DARK' 'EARTH' 'DARK' 'DARK' 'EARTH'\n",
      " 'WATER' 'DARK' 'DARK' 'DARK' 'LIGHT' 'DARK' 'EARTH' 'DARK']\n",
      "Class: 4716    LIGHT\n",
      "230      FIRE\n",
      "5081    LIGHT\n",
      "211      DARK\n",
      "2516     DARK\n",
      "        ...  \n",
      "1740    LIGHT\n",
      "4952    LIGHT\n",
      "3230     DARK\n",
      "1266    EARTH\n",
      "4426    WATER\n",
      "Name: Attribute, Length: 855, dtype: object\n",
      "akurasi: 0.27017543859649124\n"
     ]
    }
   ],
   "source": [
    "print(f'hasil prediksi: {predicted_value}',\n",
    "     f'Class: {y_test}',\n",
    "     f'akurasi: {accuracy}',\n",
    "     sep = '\\n'\n",
    ")"
   ]
  },
  {
   "cell_type": "code",
   "execution_count": 124,
   "id": "2968cb64",
   "metadata": {},
   "outputs": [
    {
     "data": {
      "text/plain": [
       "0.27017543859649124"
      ]
     },
     "execution_count": 124,
     "metadata": {},
     "output_type": "execute_result"
    }
   ],
   "source": [
    "classifier.score(x_test,y_test)"
   ]
  },
  {
   "cell_type": "markdown",
   "id": "0201ab21",
   "metadata": {},
   "source": [
    "## NAIVE BAYES CLASSIFICATION\n",
    "Berikutnya ada Naïve Bayes, yang mengadopsi prinsip kemandirian kelas bersyarat dari Teorema Bayes. Dalam prinsip tersebut, ada tidaknya satu elemen tidak akan memengaruhi komponen lain dalam probabilitas hasil yang akan diberikan, dengan predictor yang mendapatkan efek yang sama."
   ]
  },
  {
   "cell_type": "code",
   "execution_count": 125,
   "id": "82699d0a",
   "metadata": {},
   "outputs": [],
   "source": [
    "x = dataset_mn[['Level','DEF','ATK']]\n",
    "y = dataset_mn['Attribute']"
   ]
  },
  {
   "cell_type": "code",
   "execution_count": 126,
   "id": "38e014db",
   "metadata": {},
   "outputs": [],
   "source": [
    "x_train, x_test, y_train, y_test = train_test_split(x, y, test_size=1, shuffle=False, stratify=None)"
   ]
  },
  {
   "cell_type": "code",
   "execution_count": 127,
   "id": "b3d8f7bd",
   "metadata": {},
   "outputs": [],
   "source": [
    "classifier = GaussianNB()\n",
    "classifier.fit(x_train,y_train)\n",
    "\n",
    "predicted_value = classifier.predict(x_test)\n",
    "accuracy = accuracy_score(y_test, predicted_value)"
   ]
  },
  {
   "cell_type": "code",
   "execution_count": 128,
   "id": "e68f9a70",
   "metadata": {},
   "outputs": [
    {
     "name": "stdout",
     "output_type": "stream",
     "text": [
      "hasil prediksi: ['DARK']\n",
      "Class: 6533    WIND\n",
      "Name: Attribute, dtype: object\n",
      "akurasi: 0.0\n"
     ]
    }
   ],
   "source": [
    "print(f'hasil prediksi: {predicted_value}',\n",
    "     f'Class: {y_test}',\n",
    "     f'akurasi: {accuracy}',\n",
    "     sep = '\\n'\n",
    ")"
   ]
  },
  {
   "cell_type": "code",
   "execution_count": 129,
   "id": "b0d99153",
   "metadata": {},
   "outputs": [
    {
     "data": {
      "text/plain": [
       "0.0"
      ]
     },
     "execution_count": 129,
     "metadata": {},
     "output_type": "execute_result"
    }
   ],
   "source": [
    "classifier.score(x_test,y_test)"
   ]
  },
  {
   "cell_type": "markdown",
   "id": "f1e9a0b9",
   "metadata": {},
   "source": [
    "# ----------------------------------------------END--------------------------------------------------------"
   ]
  }
 ],
 "metadata": {
  "kernelspec": {
   "display_name": "Python 3 (ipykernel)",
   "language": "python",
   "name": "python3"
  },
  "language_info": {
   "codemirror_mode": {
    "name": "ipython",
    "version": 3
   },
   "file_extension": ".py",
   "mimetype": "text/x-python",
   "name": "python",
   "nbconvert_exporter": "python",
   "pygments_lexer": "ipython3",
   "version": "3.10.7"
  }
 },
 "nbformat": 4,
 "nbformat_minor": 5
}
