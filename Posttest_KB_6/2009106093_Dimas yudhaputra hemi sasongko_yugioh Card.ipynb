{
 "cells": [
  {
   "cell_type": "markdown",
   "id": "4a077772",
   "metadata": {},
   "source": [
    "# POSTTEST 6\n",
    "Dimas sasongko_2009106093\n",
    "\n",
    "## Visualiasi data Yu-Gi-Oh! Trading Cards Dataset!"
   ]
  },
  {
   "cell_type": "markdown",
   "id": "48674594",
   "metadata": {},
   "source": [
    "## Import Package -------------------------------------------------------------------------"
   ]
  },
  {
   "cell_type": "code",
   "execution_count": 43,
   "id": "7e414c28",
   "metadata": {
    "vscode": {
     "languageId": "plaintext"
    }
   },
   "outputs": [],
   "source": [
    "import pandas as pd\n",
    "import matplotlib.pyplot as plt\n",
    "import seaborn as sns\n",
    "import numpy as np\n",
    "\n",
    "#Data Cleaning#\n",
    "from sklearn.impute import SimpleImputer\n",
    "\n",
    "#K-Means#\n",
    "import sklearn.datasets as dts\n",
    "from sklearn.cluster import KMeans\n",
    "\n",
    "#from scipy.cluster.hierarchy import dendrogram, linkage, complete"
   ]
  },
  {
   "cell_type": "code",
   "execution_count": 44,
   "id": "8bb28712",
   "metadata": {},
   "outputs": [
    {
     "data": {
      "text/html": [
       "<div>\n",
       "<style scoped>\n",
       "    .dataframe tbody tr th:only-of-type {\n",
       "        vertical-align: middle;\n",
       "    }\n",
       "\n",
       "    .dataframe tbody tr th {\n",
       "        vertical-align: top;\n",
       "    }\n",
       "\n",
       "    .dataframe thead th {\n",
       "        text-align: right;\n",
       "    }\n",
       "</style>\n",
       "<table border=\"1\" class=\"dataframe\">\n",
       "  <thead>\n",
       "    <tr style=\"text-align: right;\">\n",
       "      <th></th>\n",
       "      <th>Name</th>\n",
       "      <th>Type</th>\n",
       "      <th>Level</th>\n",
       "      <th>Race</th>\n",
       "      <th>Attribute</th>\n",
       "      <th>ATK</th>\n",
       "      <th>DEF</th>\n",
       "    </tr>\n",
       "  </thead>\n",
       "  <tbody>\n",
       "    <tr>\n",
       "      <th>0</th>\n",
       "      <td>Limit Reverse</td>\n",
       "      <td>Trap Card</td>\n",
       "      <td>NaN</td>\n",
       "      <td>Continuous</td>\n",
       "      <td>NaN</td>\n",
       "      <td>NaN</td>\n",
       "      <td>NaN</td>\n",
       "    </tr>\n",
       "    <tr>\n",
       "      <th>1</th>\n",
       "      <td>The 13th Grave</td>\n",
       "      <td>Normal Monster</td>\n",
       "      <td>3.0</td>\n",
       "      <td>Zombie</td>\n",
       "      <td>DARK</td>\n",
       "      <td>1200.0</td>\n",
       "      <td>900.0</td>\n",
       "    </tr>\n",
       "    <tr>\n",
       "      <th>2</th>\n",
       "      <td>Gem-Enhancement</td>\n",
       "      <td>Trap Card</td>\n",
       "      <td>NaN</td>\n",
       "      <td>Normal</td>\n",
       "      <td>NaN</td>\n",
       "      <td>NaN</td>\n",
       "      <td>NaN</td>\n",
       "    </tr>\n",
       "    <tr>\n",
       "      <th>3</th>\n",
       "      <td>Magician's Circle</td>\n",
       "      <td>Trap Card</td>\n",
       "      <td>NaN</td>\n",
       "      <td>Normal</td>\n",
       "      <td>NaN</td>\n",
       "      <td>NaN</td>\n",
       "      <td>NaN</td>\n",
       "    </tr>\n",
       "    <tr>\n",
       "      <th>4</th>\n",
       "      <td>Castle of Dark Illusions</td>\n",
       "      <td>Flip Effect Monster</td>\n",
       "      <td>4.0</td>\n",
       "      <td>Fiend</td>\n",
       "      <td>DARK</td>\n",
       "      <td>920.0</td>\n",
       "      <td>1930.0</td>\n",
       "    </tr>\n",
       "    <tr>\n",
       "      <th>...</th>\n",
       "      <td>...</td>\n",
       "      <td>...</td>\n",
       "      <td>...</td>\n",
       "      <td>...</td>\n",
       "      <td>...</td>\n",
       "      <td>...</td>\n",
       "      <td>...</td>\n",
       "    </tr>\n",
       "    <tr>\n",
       "      <th>6529</th>\n",
       "      <td>Wattcancel</td>\n",
       "      <td>Trap Card</td>\n",
       "      <td>NaN</td>\n",
       "      <td>Counter</td>\n",
       "      <td>NaN</td>\n",
       "      <td>NaN</td>\n",
       "      <td>NaN</td>\n",
       "    </tr>\n",
       "    <tr>\n",
       "      <th>6530</th>\n",
       "      <td>Paleozoic Anomalocaris</td>\n",
       "      <td>XYZ Monster</td>\n",
       "      <td>2.0</td>\n",
       "      <td>Aqua</td>\n",
       "      <td>WATER</td>\n",
       "      <td>2400.0</td>\n",
       "      <td>0.0</td>\n",
       "    </tr>\n",
       "    <tr>\n",
       "      <th>6531</th>\n",
       "      <td>Dark Magician</td>\n",
       "      <td>Normal Monster</td>\n",
       "      <td>7.0</td>\n",
       "      <td>Spellcaster</td>\n",
       "      <td>DARK</td>\n",
       "      <td>2500.0</td>\n",
       "      <td>2100.0</td>\n",
       "    </tr>\n",
       "    <tr>\n",
       "      <th>6532</th>\n",
       "      <td>Odd-Eyes Pendulum Dragon</td>\n",
       "      <td>Pendulum Effect Monster</td>\n",
       "      <td>7.0</td>\n",
       "      <td>Dragon</td>\n",
       "      <td>DARK</td>\n",
       "      <td>2500.0</td>\n",
       "      <td>2000.0</td>\n",
       "    </tr>\n",
       "    <tr>\n",
       "      <th>6533</th>\n",
       "      <td>Stardust Dragon</td>\n",
       "      <td>Synchro Monster</td>\n",
       "      <td>8.0</td>\n",
       "      <td>Dragon</td>\n",
       "      <td>WIND</td>\n",
       "      <td>2500.0</td>\n",
       "      <td>2000.0</td>\n",
       "    </tr>\n",
       "  </tbody>\n",
       "</table>\n",
       "<p>6534 rows × 7 columns</p>\n",
       "</div>"
      ],
      "text/plain": [
       "                          Name                     Type  Level         Race  \\\n",
       "0                Limit Reverse                Trap Card    NaN   Continuous   \n",
       "1               The 13th Grave           Normal Monster    3.0       Zombie   \n",
       "2              Gem-Enhancement                Trap Card    NaN       Normal   \n",
       "3            Magician's Circle                Trap Card    NaN       Normal   \n",
       "4     Castle of Dark Illusions      Flip Effect Monster    4.0        Fiend   \n",
       "...                        ...                      ...    ...          ...   \n",
       "6529                Wattcancel                Trap Card    NaN      Counter   \n",
       "6530    Paleozoic Anomalocaris              XYZ Monster    2.0         Aqua   \n",
       "6531             Dark Magician           Normal Monster    7.0  Spellcaster   \n",
       "6532  Odd-Eyes Pendulum Dragon  Pendulum Effect Monster    7.0       Dragon   \n",
       "6533           Stardust Dragon          Synchro Monster    8.0       Dragon   \n",
       "\n",
       "     Attribute     ATK     DEF  \n",
       "0          NaN     NaN     NaN  \n",
       "1         DARK  1200.0   900.0  \n",
       "2          NaN     NaN     NaN  \n",
       "3          NaN     NaN     NaN  \n",
       "4         DARK   920.0  1930.0  \n",
       "...        ...     ...     ...  \n",
       "6529       NaN     NaN     NaN  \n",
       "6530     WATER  2400.0     0.0  \n",
       "6531      DARK  2500.0  2100.0  \n",
       "6532      DARK  2500.0  2000.0  \n",
       "6533      WIND  2500.0  2000.0  \n",
       "\n",
       "[6534 rows x 7 columns]"
      ]
     },
     "execution_count": 44,
     "metadata": {},
     "output_type": "execute_result"
    }
   ],
   "source": [
    "df = pd.read_csv(\"card_data.csv\")\n",
    "df"
   ]
  },
  {
   "cell_type": "code",
   "execution_count": 45,
   "id": "392cf945",
   "metadata": {},
   "outputs": [
    {
     "name": "stdout",
     "output_type": "stream",
     "text": [
      "<class 'pandas.core.frame.DataFrame'>\n",
      "RangeIndex: 6534 entries, 0 to 6533\n",
      "Data columns (total 7 columns):\n",
      " #   Column     Non-Null Count  Dtype  \n",
      "---  ------     --------------  -----  \n",
      " 0   Name       6534 non-null   object \n",
      " 1   Type       6534 non-null   object \n",
      " 2   Level      4275 non-null   float64\n",
      " 3   Race       6534 non-null   object \n",
      " 4   Attribute  4275 non-null   object \n",
      " 5   ATK        4275 non-null   float64\n",
      " 6   DEF        4275 non-null   float64\n",
      "dtypes: float64(3), object(4)\n",
      "memory usage: 357.5+ KB\n"
     ]
    }
   ],
   "source": [
    "#Info\n",
    "#df = df.fillna(0)\n",
    "df.info()"
   ]
  },
  {
   "cell_type": "code",
   "execution_count": 46,
   "id": "df18ed98",
   "metadata": {},
   "outputs": [
    {
     "data": {
      "text/html": [
       "<div>\n",
       "<style scoped>\n",
       "    .dataframe tbody tr th:only-of-type {\n",
       "        vertical-align: middle;\n",
       "    }\n",
       "\n",
       "    .dataframe tbody tr th {\n",
       "        vertical-align: top;\n",
       "    }\n",
       "\n",
       "    .dataframe thead th {\n",
       "        text-align: right;\n",
       "    }\n",
       "</style>\n",
       "<table border=\"1\" class=\"dataframe\">\n",
       "  <thead>\n",
       "    <tr style=\"text-align: right;\">\n",
       "      <th></th>\n",
       "      <th>Level</th>\n",
       "      <th>ATK</th>\n",
       "      <th>DEF</th>\n",
       "    </tr>\n",
       "  </thead>\n",
       "  <tbody>\n",
       "    <tr>\n",
       "      <th>count</th>\n",
       "      <td>4275.000000</td>\n",
       "      <td>4275.000000</td>\n",
       "      <td>4275.000000</td>\n",
       "    </tr>\n",
       "    <tr>\n",
       "      <th>mean</th>\n",
       "      <td>4.449591</td>\n",
       "      <td>1455.553216</td>\n",
       "      <td>1212.318129</td>\n",
       "    </tr>\n",
       "    <tr>\n",
       "      <th>std</th>\n",
       "      <td>2.185045</td>\n",
       "      <td>899.165365</td>\n",
       "      <td>802.966529</td>\n",
       "    </tr>\n",
       "    <tr>\n",
       "      <th>min</th>\n",
       "      <td>1.000000</td>\n",
       "      <td>0.000000</td>\n",
       "      <td>0.000000</td>\n",
       "    </tr>\n",
       "    <tr>\n",
       "      <th>25%</th>\n",
       "      <td>3.000000</td>\n",
       "      <td>800.000000</td>\n",
       "      <td>600.000000</td>\n",
       "    </tr>\n",
       "    <tr>\n",
       "      <th>50%</th>\n",
       "      <td>4.000000</td>\n",
       "      <td>1500.000000</td>\n",
       "      <td>1200.000000</td>\n",
       "    </tr>\n",
       "    <tr>\n",
       "      <th>75%</th>\n",
       "      <td>6.000000</td>\n",
       "      <td>2100.000000</td>\n",
       "      <td>1800.000000</td>\n",
       "    </tr>\n",
       "    <tr>\n",
       "      <th>max</th>\n",
       "      <td>12.000000</td>\n",
       "      <td>5000.000000</td>\n",
       "      <td>5000.000000</td>\n",
       "    </tr>\n",
       "  </tbody>\n",
       "</table>\n",
       "</div>"
      ],
      "text/plain": [
       "             Level          ATK          DEF\n",
       "count  4275.000000  4275.000000  4275.000000\n",
       "mean      4.449591  1455.553216  1212.318129\n",
       "std       2.185045   899.165365   802.966529\n",
       "min       1.000000     0.000000     0.000000\n",
       "25%       3.000000   800.000000   600.000000\n",
       "50%       4.000000  1500.000000  1200.000000\n",
       "75%       6.000000  2100.000000  1800.000000\n",
       "max      12.000000  5000.000000  5000.000000"
      ]
     },
     "execution_count": 46,
     "metadata": {},
     "output_type": "execute_result"
    }
   ],
   "source": [
    "df.describe()"
   ]
  },
  {
   "cell_type": "code",
   "execution_count": 47,
   "id": "21546e24",
   "metadata": {},
   "outputs": [
    {
     "data": {
      "text/plain": [
       "Name            0\n",
       "Type            0\n",
       "Level        2259\n",
       "Race            0\n",
       "Attribute    2259\n",
       "ATK          2259\n",
       "DEF          2259\n",
       "dtype: int64"
      ]
     },
     "execution_count": 47,
     "metadata": {},
     "output_type": "execute_result"
    }
   ],
   "source": [
    "df.isna().sum()"
   ]
  },
  {
   "cell_type": "code",
   "execution_count": 48,
   "id": "2a60de93",
   "metadata": {},
   "outputs": [
    {
     "name": "stdout",
     "output_type": "stream",
     "text": [
      "panjang dataset 6534 Row\n"
     ]
    }
   ],
   "source": [
    "print(f'panjang dataset {len(df)} Row')"
   ]
  },
  {
   "cell_type": "markdown",
   "id": "160fe2e0",
   "metadata": {},
   "source": [
    "## Data Cleaning -------------------------------------------------------------------------\n",
    "Data yang kita gunakan bisa jadi sangat berantakan. Ada informasi yang tak\n",
    "lengkap, ada pula format yang berbeda-beda.Semua ini tentu membuat data itu sulit\n",
    "diolah."
   ]
  },
  {
   "cell_type": "code",
   "execution_count": 49,
   "id": "7dedd19a",
   "metadata": {},
   "outputs": [],
   "source": [
    "dataset_mn = df.copy()\n",
    "dataset_md = df.copy()\n",
    "dataset_ms = df.copy()"
   ]
  },
  {
   "cell_type": "code",
   "execution_count": 50,
   "id": "05a1670c",
   "metadata": {},
   "outputs": [],
   "source": [
    "imputer_mean = SimpleImputer(strategy='mean')\n",
    "imputer_median = SimpleImputer(strategy='median')\n",
    "imputer_modus = SimpleImputer(strategy='most_frequent')"
   ]
  },
  {
   "cell_type": "markdown",
   "id": "eacc6b6d",
   "metadata": {},
   "source": [
    "### Mean"
   ]
  },
  {
   "cell_type": "code",
   "execution_count": 51,
   "id": "253dc3b5",
   "metadata": {},
   "outputs": [
    {
     "data": {
      "text/plain": [
       "Name            0\n",
       "Type            0\n",
       "Level        2259\n",
       "Race            0\n",
       "Attribute    2259\n",
       "ATK             0\n",
       "DEF          2259\n",
       "dtype: int64"
      ]
     },
     "execution_count": 51,
     "metadata": {},
     "output_type": "execute_result"
    }
   ],
   "source": [
    "dataset_mn['ATK'] = imputer_mean.fit_transform(dataset_mn[['ATK']])\n",
    "dataset_mn.isna().sum()"
   ]
  },
  {
   "cell_type": "code",
   "execution_count": 52,
   "id": "4058e0ec",
   "metadata": {},
   "outputs": [
    {
     "data": {
      "text/plain": [
       "Name         0\n",
       "Type         0\n",
       "Level        0\n",
       "Race         0\n",
       "Attribute    0\n",
       "ATK          0\n",
       "DEF          0\n",
       "dtype: int64"
      ]
     },
     "execution_count": 52,
     "metadata": {},
     "output_type": "execute_result"
    }
   ],
   "source": [
    "dataset_mn.dropna(inplace=True)\n",
    "dataset_mn.isna().sum()"
   ]
  },
  {
   "cell_type": "markdown",
   "id": "7c4b8c0b",
   "metadata": {},
   "source": [
    "### Median"
   ]
  },
  {
   "cell_type": "code",
   "execution_count": 53,
   "id": "c9551bce",
   "metadata": {
    "scrolled": true
   },
   "outputs": [
    {
     "data": {
      "text/plain": [
       "Name            0\n",
       "Type            0\n",
       "Level        2259\n",
       "Race            0\n",
       "Attribute    2259\n",
       "ATK          2259\n",
       "DEF             0\n",
       "dtype: int64"
      ]
     },
     "execution_count": 53,
     "metadata": {},
     "output_type": "execute_result"
    }
   ],
   "source": [
    "dataset_md['DEF'] = imputer_median.fit_transform(dataset_md[['DEF']])\n",
    "dataset_md.isna().sum()"
   ]
  },
  {
   "cell_type": "code",
   "execution_count": 54,
   "id": "6607c820",
   "metadata": {},
   "outputs": [
    {
     "data": {
      "text/plain": [
       "Name         0\n",
       "Type         0\n",
       "Level        0\n",
       "Race         0\n",
       "Attribute    0\n",
       "ATK          0\n",
       "DEF          0\n",
       "dtype: int64"
      ]
     },
     "execution_count": 54,
     "metadata": {},
     "output_type": "execute_result"
    }
   ],
   "source": [
    "dataset_md.dropna(inplace=True)\n",
    "dataset_md.isna().sum()"
   ]
  },
  {
   "cell_type": "markdown",
   "id": "114f4397",
   "metadata": {},
   "source": [
    "### Modus"
   ]
  },
  {
   "cell_type": "code",
   "execution_count": 55,
   "id": "eba954c3",
   "metadata": {},
   "outputs": [
    {
     "data": {
      "text/plain": [
       "Name         0\n",
       "Type         0\n",
       "Level        0\n",
       "Race         0\n",
       "Attribute    0\n",
       "ATK          0\n",
       "DEF          0\n",
       "dtype: int64"
      ]
     },
     "execution_count": 55,
     "metadata": {},
     "output_type": "execute_result"
    }
   ],
   "source": [
    "dataset_md['Level'] = imputer_median.fit_transform(dataset_md[['Level']])\n",
    "dataset_md.isna().sum()"
   ]
  },
  {
   "cell_type": "code",
   "execution_count": 56,
   "id": "f5fff17a",
   "metadata": {},
   "outputs": [
    {
     "data": {
      "text/plain": [
       "Name         0\n",
       "Type         0\n",
       "Level        0\n",
       "Race         0\n",
       "Attribute    0\n",
       "ATK          0\n",
       "DEF          0\n",
       "dtype: int64"
      ]
     },
     "execution_count": 56,
     "metadata": {},
     "output_type": "execute_result"
    }
   ],
   "source": [
    "dataset_md.dropna(inplace=True)\n",
    "dataset_md.isna().sum()"
   ]
  },
  {
   "cell_type": "code",
   "execution_count": 57,
   "id": "0c2813fc",
   "metadata": {},
   "outputs": [
    {
     "data": {
      "text/plain": [
       "4275"
      ]
     },
     "execution_count": 57,
     "metadata": {},
     "output_type": "execute_result"
    }
   ],
   "source": [
    "len(dataset_mn)"
   ]
  },
  {
   "cell_type": "markdown",
   "id": "ef25917a",
   "metadata": {},
   "source": [
    "### Data Duplikat "
   ]
  },
  {
   "cell_type": "code",
   "execution_count": 58,
   "id": "f9bb1d89",
   "metadata": {},
   "outputs": [
    {
     "data": {
      "text/plain": [
       "85"
      ]
     },
     "execution_count": 58,
     "metadata": {},
     "output_type": "execute_result"
    }
   ],
   "source": [
    "dataset_duplicate = df.copy()\n",
    "dataset_duplicate.duplicated().sum()"
   ]
  },
  {
   "cell_type": "code",
   "execution_count": 59,
   "id": "f20d2d08",
   "metadata": {},
   "outputs": [
    {
     "data": {
      "text/plain": [
       "0"
      ]
     },
     "execution_count": 59,
     "metadata": {},
     "output_type": "execute_result"
    }
   ],
   "source": [
    "dataset_duplicate.drop_duplicates(inplace=True)\n",
    "dataset_duplicate.duplicated().sum()"
   ]
  },
  {
   "cell_type": "markdown",
   "id": "f2385ce2",
   "metadata": {},
   "source": [
    "# K-Means Clustering\n",
    "Algoritma ini menemukan kelompok data dengan nilai squared error antara rata-rata empiris dari cluster dan point di cluster minimum. Algoritma ini termasuk dalam clustering dengan pendekatan partitional. Setiap cluster berhubungan dengan centroid (point tengah). Setiap point dimasukkan pada cluster dengan centroid terdekat. Pada algoritma ini nilai K == cluster harus ditentukan."
   ]
  },
  {
   "cell_type": "code",
   "execution_count": 60,
   "id": "ea3b7967",
   "metadata": {},
   "outputs": [
    {
     "data": {
      "text/html": [
       "<div>\n",
       "<style scoped>\n",
       "    .dataframe tbody tr th:only-of-type {\n",
       "        vertical-align: middle;\n",
       "    }\n",
       "\n",
       "    .dataframe tbody tr th {\n",
       "        vertical-align: top;\n",
       "    }\n",
       "\n",
       "    .dataframe thead th {\n",
       "        text-align: right;\n",
       "    }\n",
       "</style>\n",
       "<table border=\"1\" class=\"dataframe\">\n",
       "  <thead>\n",
       "    <tr style=\"text-align: right;\">\n",
       "      <th></th>\n",
       "      <th>Name</th>\n",
       "      <th>Type</th>\n",
       "      <th>Level</th>\n",
       "      <th>Race</th>\n",
       "      <th>Attribute</th>\n",
       "      <th>ATK</th>\n",
       "      <th>DEF</th>\n",
       "    </tr>\n",
       "  </thead>\n",
       "  <tbody>\n",
       "    <tr>\n",
       "      <th>1</th>\n",
       "      <td>The 13th Grave</td>\n",
       "      <td>Normal Monster</td>\n",
       "      <td>3.0</td>\n",
       "      <td>Zombie</td>\n",
       "      <td>DARK</td>\n",
       "      <td>1200.0</td>\n",
       "      <td>900.0</td>\n",
       "    </tr>\n",
       "    <tr>\n",
       "      <th>4</th>\n",
       "      <td>Castle of Dark Illusions</td>\n",
       "      <td>Flip Effect Monster</td>\n",
       "      <td>4.0</td>\n",
       "      <td>Fiend</td>\n",
       "      <td>DARK</td>\n",
       "      <td>920.0</td>\n",
       "      <td>1930.0</td>\n",
       "    </tr>\n",
       "    <tr>\n",
       "      <th>6</th>\n",
       "      <td>Lava Golem</td>\n",
       "      <td>Effect Monster</td>\n",
       "      <td>8.0</td>\n",
       "      <td>Fiend</td>\n",
       "      <td>FIRE</td>\n",
       "      <td>3000.0</td>\n",
       "      <td>2500.0</td>\n",
       "    </tr>\n",
       "    <tr>\n",
       "      <th>8</th>\n",
       "      <td>Seismic Crasher</td>\n",
       "      <td>Effect Monster</td>\n",
       "      <td>3.0</td>\n",
       "      <td>Rock</td>\n",
       "      <td>EARTH</td>\n",
       "      <td>1400.0</td>\n",
       "      <td>300.0</td>\n",
       "    </tr>\n",
       "    <tr>\n",
       "      <th>9</th>\n",
       "      <td>Laval Lancelord</td>\n",
       "      <td>Effect Monster</td>\n",
       "      <td>6.0</td>\n",
       "      <td>Warrior</td>\n",
       "      <td>FIRE</td>\n",
       "      <td>2100.0</td>\n",
       "      <td>200.0</td>\n",
       "    </tr>\n",
       "    <tr>\n",
       "      <th>11</th>\n",
       "      <td>Performapal Springoose</td>\n",
       "      <td>Effect Monster</td>\n",
       "      <td>5.0</td>\n",
       "      <td>Winged Beast</td>\n",
       "      <td>WIND</td>\n",
       "      <td>1100.0</td>\n",
       "      <td>2400.0</td>\n",
       "    </tr>\n",
       "    <tr>\n",
       "      <th>12</th>\n",
       "      <td>Miracle Flipper</td>\n",
       "      <td>Effect Monster</td>\n",
       "      <td>2.0</td>\n",
       "      <td>Spellcaster</td>\n",
       "      <td>LIGHT</td>\n",
       "      <td>300.0</td>\n",
       "      <td>500.0</td>\n",
       "    </tr>\n",
       "    <tr>\n",
       "      <th>13</th>\n",
       "      <td>Key Mouse</td>\n",
       "      <td>Tuner Monster</td>\n",
       "      <td>1.0</td>\n",
       "      <td>Beast</td>\n",
       "      <td>EARTH</td>\n",
       "      <td>100.0</td>\n",
       "      <td>100.0</td>\n",
       "    </tr>\n",
       "    <tr>\n",
       "      <th>15</th>\n",
       "      <td>Vylon Hept</td>\n",
       "      <td>Effect Monster</td>\n",
       "      <td>4.0</td>\n",
       "      <td>Fairy</td>\n",
       "      <td>LIGHT</td>\n",
       "      <td>1800.0</td>\n",
       "      <td>800.0</td>\n",
       "    </tr>\n",
       "  </tbody>\n",
       "</table>\n",
       "</div>"
      ],
      "text/plain": [
       "                        Name                 Type  Level          Race  \\\n",
       "1             The 13th Grave       Normal Monster    3.0        Zombie   \n",
       "4   Castle of Dark Illusions  Flip Effect Monster    4.0         Fiend   \n",
       "6                 Lava Golem       Effect Monster    8.0         Fiend   \n",
       "8            Seismic Crasher       Effect Monster    3.0          Rock   \n",
       "9            Laval Lancelord       Effect Monster    6.0       Warrior   \n",
       "11    Performapal Springoose       Effect Monster    5.0  Winged Beast   \n",
       "12           Miracle Flipper       Effect Monster    2.0   Spellcaster   \n",
       "13                 Key Mouse        Tuner Monster    1.0         Beast   \n",
       "15                Vylon Hept       Effect Monster    4.0         Fairy   \n",
       "\n",
       "   Attribute     ATK     DEF  \n",
       "1       DARK  1200.0   900.0  \n",
       "4       DARK   920.0  1930.0  \n",
       "6       FIRE  3000.0  2500.0  \n",
       "8      EARTH  1400.0   300.0  \n",
       "9       FIRE  2100.0   200.0  \n",
       "11      WIND  1100.0  2400.0  \n",
       "12     LIGHT   300.0   500.0  \n",
       "13     EARTH   100.0   100.0  \n",
       "15     LIGHT  1800.0   800.0  "
      ]
     },
     "execution_count": 60,
     "metadata": {},
     "output_type": "execute_result"
    }
   ],
   "source": [
    "dataset_mn.head(9)"
   ]
  },
  {
   "cell_type": "code",
   "execution_count": 61,
   "id": "eeace19a",
   "metadata": {},
   "outputs": [],
   "source": [
    "model = KMeans(n_clusters=4)"
   ]
  },
  {
   "cell_type": "code",
   "execution_count": 62,
   "id": "149ee861",
   "metadata": {},
   "outputs": [],
   "source": [
    "point = dataset_mn[['ATK','Level']]"
   ]
  },
  {
   "cell_type": "code",
   "execution_count": 63,
   "id": "9339d91d",
   "metadata": {},
   "outputs": [
    {
     "data": {
      "text/html": [
       "<style>#sk-container-id-2 {color: black;background-color: white;}#sk-container-id-2 pre{padding: 0;}#sk-container-id-2 div.sk-toggleable {background-color: white;}#sk-container-id-2 label.sk-toggleable__label {cursor: pointer;display: block;width: 100%;margin-bottom: 0;padding: 0.3em;box-sizing: border-box;text-align: center;}#sk-container-id-2 label.sk-toggleable__label-arrow:before {content: \"▸\";float: left;margin-right: 0.25em;color: #696969;}#sk-container-id-2 label.sk-toggleable__label-arrow:hover:before {color: black;}#sk-container-id-2 div.sk-estimator:hover label.sk-toggleable__label-arrow:before {color: black;}#sk-container-id-2 div.sk-toggleable__content {max-height: 0;max-width: 0;overflow: hidden;text-align: left;background-color: #f0f8ff;}#sk-container-id-2 div.sk-toggleable__content pre {margin: 0.2em;color: black;border-radius: 0.25em;background-color: #f0f8ff;}#sk-container-id-2 input.sk-toggleable__control:checked~div.sk-toggleable__content {max-height: 200px;max-width: 100%;overflow: auto;}#sk-container-id-2 input.sk-toggleable__control:checked~label.sk-toggleable__label-arrow:before {content: \"▾\";}#sk-container-id-2 div.sk-estimator input.sk-toggleable__control:checked~label.sk-toggleable__label {background-color: #d4ebff;}#sk-container-id-2 div.sk-label input.sk-toggleable__control:checked~label.sk-toggleable__label {background-color: #d4ebff;}#sk-container-id-2 input.sk-hidden--visually {border: 0;clip: rect(1px 1px 1px 1px);clip: rect(1px, 1px, 1px, 1px);height: 1px;margin: -1px;overflow: hidden;padding: 0;position: absolute;width: 1px;}#sk-container-id-2 div.sk-estimator {font-family: monospace;background-color: #f0f8ff;border: 1px dotted black;border-radius: 0.25em;box-sizing: border-box;margin-bottom: 0.5em;}#sk-container-id-2 div.sk-estimator:hover {background-color: #d4ebff;}#sk-container-id-2 div.sk-parallel-item::after {content: \"\";width: 100%;border-bottom: 1px solid gray;flex-grow: 1;}#sk-container-id-2 div.sk-label:hover label.sk-toggleable__label {background-color: #d4ebff;}#sk-container-id-2 div.sk-serial::before {content: \"\";position: absolute;border-left: 1px solid gray;box-sizing: border-box;top: 0;bottom: 0;left: 50%;z-index: 0;}#sk-container-id-2 div.sk-serial {display: flex;flex-direction: column;align-items: center;background-color: white;padding-right: 0.2em;padding-left: 0.2em;position: relative;}#sk-container-id-2 div.sk-item {position: relative;z-index: 1;}#sk-container-id-2 div.sk-parallel {display: flex;align-items: stretch;justify-content: center;background-color: white;position: relative;}#sk-container-id-2 div.sk-item::before, #sk-container-id-2 div.sk-parallel-item::before {content: \"\";position: absolute;border-left: 1px solid gray;box-sizing: border-box;top: 0;bottom: 0;left: 50%;z-index: -1;}#sk-container-id-2 div.sk-parallel-item {display: flex;flex-direction: column;z-index: 1;position: relative;background-color: white;}#sk-container-id-2 div.sk-parallel-item:first-child::after {align-self: flex-end;width: 50%;}#sk-container-id-2 div.sk-parallel-item:last-child::after {align-self: flex-start;width: 50%;}#sk-container-id-2 div.sk-parallel-item:only-child::after {width: 0;}#sk-container-id-2 div.sk-dashed-wrapped {border: 1px dashed gray;margin: 0 0.4em 0.5em 0.4em;box-sizing: border-box;padding-bottom: 0.4em;background-color: white;}#sk-container-id-2 div.sk-label label {font-family: monospace;font-weight: bold;display: inline-block;line-height: 1.2em;}#sk-container-id-2 div.sk-label-container {text-align: center;}#sk-container-id-2 div.sk-container {/* jupyter's `normalize.less` sets `[hidden] { display: none; }` but bootstrap.min.css set `[hidden] { display: none !important; }` so we also need the `!important` here to be able to override the default hidden behavior on the sphinx rendered scikit-learn.org. See: https://github.com/scikit-learn/scikit-learn/issues/21755 */display: inline-block !important;position: relative;}#sk-container-id-2 div.sk-text-repr-fallback {display: none;}</style><div id=\"sk-container-id-2\" class=\"sk-top-container\"><div class=\"sk-text-repr-fallback\"><pre>KMeans(n_clusters=4)</pre><b>In a Jupyter environment, please rerun this cell to show the HTML representation or trust the notebook. <br />On GitHub, the HTML representation is unable to render, please try loading this page with nbviewer.org.</b></div><div class=\"sk-container\" hidden><div class=\"sk-item\"><div class=\"sk-estimator sk-toggleable\"><input class=\"sk-toggleable__control sk-hidden--visually\" id=\"sk-estimator-id-2\" type=\"checkbox\" checked><label for=\"sk-estimator-id-2\" class=\"sk-toggleable__label sk-toggleable__label-arrow\">KMeans</label><div class=\"sk-toggleable__content\"><pre>KMeans(n_clusters=4)</pre></div></div></div></div></div>"
      ],
      "text/plain": [
       "KMeans(n_clusters=4)"
      ]
     },
     "execution_count": 63,
     "metadata": {},
     "output_type": "execute_result"
    }
   ],
   "source": [
    "model.fit(point)"
   ]
  },
  {
   "cell_type": "code",
   "execution_count": 64,
   "id": "f5f9e880",
   "metadata": {},
   "outputs": [
    {
     "data": {
      "text/plain": [
       "array([0, 0, 1, ..., 1, 1, 1])"
      ]
     },
     "execution_count": 64,
     "metadata": {},
     "output_type": "execute_result"
    }
   ],
   "source": [
    "label = model.labels_\n",
    "label"
   ]
  },
  {
   "cell_type": "code",
   "execution_count": 65,
   "id": "de164837",
   "metadata": {},
   "outputs": [],
   "source": [
    "X = point['ATK']\n",
    "Y = point['Level']"
   ]
  },
  {
   "cell_type": "code",
   "execution_count": 66,
   "id": "2a0ebb18",
   "metadata": {},
   "outputs": [
    {
     "data": {
      "text/plain": [
       "array([[1061.95422535,    3.48415493],\n",
       "       [2728.81355932,    7.30508475],\n",
       "       [ 240.15151515,    2.82683983],\n",
       "       [1788.87969925,    4.50150376]])"
      ]
     },
     "execution_count": 66,
     "metadata": {},
     "output_type": "execute_result"
    }
   ],
   "source": [
    "centroid = model.cluster_centers_\n",
    "centroid"
   ]
  },
  {
   "cell_type": "code",
   "execution_count": 67,
   "id": "032b4f20",
   "metadata": {},
   "outputs": [],
   "source": [
    "centroid_X = centroid[:,0]\n",
    "centroid_Y = centroid[:,1]"
   ]
  },
  {
   "cell_type": "code",
   "execution_count": 68,
   "id": "38e4ed78",
   "metadata": {},
   "outputs": [
    {
     "data": {
      "image/png": "[encoded data removed]",
      "text/plain": [
       "<Figure size 500x500 with 1 Axes>"
      ]
     },
     "metadata": {},
     "output_type": "display_data"
    }
   ],
   "source": [
    "plt.figure(figsize=(5,5))\n",
    "plt.scatter(X, Y, alpha=0.5, c=label)\n",
    "plt.scatter(centroid_X, centroid_Y, marker='D', s=50, label='centroid')\n",
    "plt.xlabel('ATK')\n",
    "plt.ylabel('Level')\n",
    "plt.legend()\n",
    "plt.show()"
   ]
  },
  {
   "cell_type": "code",
   "execution_count": 69,
   "id": "72b2ef53",
   "metadata": {},
   "outputs": [],
   "source": [
    "cluster_range = range(1,6)\n",
    "inertias = []\n",
    "\n",
    "for k in cluster_range:\n",
    "    model = KMeans(n_clusters=k)\n",
    "    model.fit(point)\n",
    "    inertias.append(model.inertia_)"
   ]
  },
  {
   "cell_type": "code",
   "execution_count": 70,
   "id": "3da2a62e",
   "metadata": {},
   "outputs": [
    {
     "data": {
      "image/png": "[encoded data removed]",
      "text/plain": [
       "<Figure size 500x500 with 1 Axes>"
      ]
     },
     "metadata": {},
     "output_type": "display_data"
    }
   ],
   "source": [
    "plt.figure(figsize=(5,5))\n",
    "plt.plot(cluster_range, inertias, '-o')\n",
    "plt.xlabel('Cluster ke-')\n",
    "plt.ylabel('Inertia/Sum Square Error')\n",
    "plt.xticks(cluster_range)\n",
    "plt.show()"
   ]
  },
  {
   "cell_type": "markdown",
   "id": "f1e9a0b9",
   "metadata": {},
   "source": [
    "# ----------------------------------------------END--------------------------------------------------------"
   ]
  }
 ],
 "metadata": {
  "kernelspec": {
   "display_name": "Python 3 (ipykernel)",
   "language": "python",
   "name": "python3"
  },
  "language_info": {
   "codemirror_mode": {
    "name": "ipython",
    "version": 3
   },
   "file_extension": ".py",
   "mimetype": "text/x-python",
   "name": "python",
   "nbconvert_exporter": "python",
   "pygments_lexer": "ipython3",
   "version": "3.10.7"
  }
 },
 "nbformat": 4,
 "nbformat_minor": 5
}
